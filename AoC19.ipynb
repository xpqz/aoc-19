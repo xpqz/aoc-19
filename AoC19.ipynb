{
 "cells": [
  {
   "cell_type": "markdown",
   "metadata": {},
   "source": [
    "# Advent of Code 2019 in Dyalog APL\n",
    "\n",
    "By Stefan Kruger\n",
    "\n",
    "Solutions to [AoC 2019](https://adventofcode.com/2019) in [Dyalog APL](https://www.dyalog.com/). Lots of help and inspiration from the friendly inhabitants of [The APL Orchard](https://chat.stackexchange.com/rooms/52405/the-apl-orchard) and [/r/apljk](https://www.reddit.com/r/apljk/).\n",
    "\n",
    "Take the red pill."
   ]
  },
  {
   "cell_type": "markdown",
   "metadata": {},
   "source": [
    "## Day 1\n",
    "\n",
    "https://adventofcode.com/2019/day/1"
   ]
  },
  {
   "cell_type": "code",
   "execution_count": 323,
   "metadata": {},
   "outputs": [],
   "source": [
    "⎕IO←0\n",
    "DAY1 ← ⍎¨ ⊃ ⎕NGET 'data/input01.data' 1"
   ]
  },
  {
   "cell_type": "code",
   "execution_count": 324,
   "metadata": {},
   "outputs": [],
   "source": [
    "Fuel ← {0⌈¯2+⌊⍵÷3}"
   ]
  },
  {
   "cell_type": "code",
   "execution_count": 325,
   "metadata": {},
   "outputs": [
    {
     "data": {
      "text/html": [
       "<span style=\"white-space:pre; font-family: monospace\">3328306\n",
       "</span>"
      ]
     },
     "execution_count": 325,
     "metadata": {},
     "output_type": "execute_result"
    }
   ],
   "source": [
    "+/ Fuel DAY1 ⍝ part 1"
   ]
  },
  {
   "cell_type": "code",
   "execution_count": 327,
   "metadata": {},
   "outputs": [
    {
     "data": {
      "text/html": [
       "<span style=\"white-space:pre; font-family: monospace\">4989588\n",
       "</span>"
      ]
     },
     "execution_count": 327,
     "metadata": {},
     "output_type": "execute_result"
    }
   ],
   "source": [
    "+/{⍵=0:0 ⋄ (Fuel ⍵) + ∇Fuel ⍵} ¨ DAY1 ⍝ part 2"
   ]
  },
  {
   "cell_type": "markdown",
   "metadata": {},
   "source": [
    "## Day 2\n",
    "\n",
    "https://adventofcode.com/2019/day/2"
   ]
  },
  {
   "cell_type": "code",
   "execution_count": 314,
   "metadata": {},
   "outputs": [],
   "source": [
    "⎕IO←0\n",
    "DAY2 ← ⊢⌿⍎¨⎕CSV'data/input02.data'"
   ]
  },
  {
   "cell_type": "code",
   "execution_count": 318,
   "metadata": {},
   "outputs": [],
   "source": [
    "]dinput\n",
    "Intcode←{                                           ⍝ Intcode interpreter, mk1\n",
    "    ⍺←0                                             \n",
    "    op p1 p2 p3 ← 4↑⍺↓⍵                             ⍝ Skip anything before and take 4 cells\n",
    "    op ∊ 1 2: (⍺+4)∇((op-1)⌷⍵[p1](+,×)⍵[p2])@p3 ⊢ ⍵ ⍝ Addition and multiplication\n",
    "    op=99: ⍵[0]                                     ⍝ Exit\n",
    "}"
   ]
  },
  {
   "cell_type": "code",
   "execution_count": 322,
   "metadata": {},
   "outputs": [
    {
     "data": {
      "text/html": [
       "<span style=\"white-space:pre; font-family: monospace\">10566835\n",
       "</span>"
      ]
     },
     "execution_count": 322,
     "metadata": {},
     "output_type": "execute_result"
    }
   ],
   "source": [
    "DAY2[1 2] ← 12 2\n",
    "Intcode DAY2                                        ⍝ part 1: 10566835"
   ]
  },
  {
   "cell_type": "markdown",
   "metadata": {},
   "source": [
    "For part two we want to find the two numbers that make the program output 19690720. We recurse over a list of all combinatons of ⍳100 and ⍳100 until we hit 19690720."
   ]
  },
  {
   "cell_type": "code",
   "execution_count": 320,
   "metadata": {},
   "outputs": [],
   "source": [
    "Run←{19690720= Intcode ((⊃1↑⍵)@1 2) ⊢ ⍺: ⊃1↑⍵ ⋄ ⍺∇1↓⍵} "
   ]
  },
  {
   "cell_type": "code",
   "execution_count": 321,
   "metadata": {},
   "outputs": [
    {
     "data": {
      "text/html": [
       "<span style=\"white-space:pre; font-family: monospace\">2347\n",
       "</span>"
      ]
     },
     "execution_count": 321,
     "metadata": {},
     "output_type": "execute_result"
    }
   ],
   "source": [
    "(noun verb) ← DAY2 Run {,⍳⍵ ⍵} 100 \n",
    "verb + 100 × noun                                   ⍝ part 2: 2347"
   ]
  },
  {
   "cell_type": "markdown",
   "metadata": {},
   "source": [
    "## Day 3\n",
    "\n",
    "https://adventofcode.com/2019/day/3"
   ]
  },
  {
   "cell_type": "code",
   "execution_count": 276,
   "metadata": {},
   "outputs": [],
   "source": [
    "⎕IO←0\n",
    "DAY3 ← 1(↑,∘⍎↓)¨ ⎕CSV'data/input03.data' ⍝ Convert each string a letter and a number.\n",
    "OFFSETS ← 4 2 ⍴ 0 1 0 ¯1 1 0 ¯1 0\n",
    "DIRS ← 'U' 'D' 'R' 'L'"
   ]
  },
  {
   "cell_type": "code",
   "execution_count": 277,
   "metadata": {},
   "outputs": [],
   "source": [
    "Pairs←{↓(2÷⍨≢⍵) 2⍴⍵}                     ⍝ Turn flat lists to lists of pairs: 1 2 3 4 -> (1 2)(3 4)"
   ]
  },
  {
   "cell_type": "code",
   "execution_count": 306,
   "metadata": {},
   "outputs": [],
   "source": [
    "]dinput\n",
    "Follow←{                                 ⍝ Follow path ⍵, accumulate list of coord pairs visited\n",
    "    ⍺←0 0\n",
    "    0=≢⍵: ⍺                              ⍝ Quit if ⍵ is empty, and return accumulator ⍺\n",
    "    (dir steps)←⊃⍵                       ⍝ Dir of travel, and number of steps, e.g. 'R' 200\n",
    "    seq←,⌿OFFSETS[DIRS⍳dir;]∘.×1+⍳steps  ⍝ Expand out the steps into a vector\n",
    "    origin←(≢seq) ⍴ ⊂¯2↑∊⍺               ⍝ Vector as long as seq; elem is the last pos we got to \n",
    "    ⍺,∊(seq+origin)∇1↓⍵                  ⍝ Sum the two vectors and append, then recurse on tail\n",
    "}"
   ]
  },
  {
   "cell_type": "code",
   "execution_count": 311,
   "metadata": {},
   "outputs": [],
   "source": [
    "(path1 path2)←Pairs∘Follow¨↓DAY3"
   ]
  },
  {
   "cell_type": "markdown",
   "metadata": {},
   "source": [
    "For part one the task is to find the intersection point which has the lowest manhattan distance from the shared start point. "
   ]
  },
  {
   "cell_type": "code",
   "execution_count": 312,
   "metadata": {},
   "outputs": [
    {
     "data": {
      "text/html": [
       "<span style=\"white-space:pre; font-family: monospace\">860\n",
       "</span>"
      ]
     },
     "execution_count": 312,
     "metadata": {},
     "output_type": "execute_result"
    }
   ],
   "source": [
    "crossings←1↓∪path1∩path2                 ⍝ Find intersections; drop the start point which is shared.\n",
    "⌊/ (+/|) ¨ crossings                     ⍝ Part 1. Minimise Manhattan distance = sum of absolute values"
   ]
  },
  {
   "cell_type": "markdown",
   "metadata": {},
   "source": [
    "Part two wants us instead to find the intersection point which has the lowest sum total steps along both paths."
   ]
  },
  {
   "cell_type": "code",
   "execution_count": 313,
   "metadata": {},
   "outputs": [
    {
     "data": {
      "text/html": [
       "<span style=\"white-space:pre; font-family: monospace\">9238\n",
       "</span>"
      ]
     },
     "execution_count": 313,
     "metadata": {},
     "output_type": "execute_result"
    }
   ],
   "source": [
    "⌊/+/(path1⍳crossings),⍪path2⍳crossings   ⍝ Part 2: intersect with smallest sum steps "
   ]
  },
  {
   "cell_type": "markdown",
   "metadata": {},
   "source": [
    "## Day 4\n",
    "\n",
    "https://adventofcode.com/2019/day/4"
   ]
  },
  {
   "cell_type": "code",
   "execution_count": 7,
   "metadata": {},
   "outputs": [],
   "source": [
    "⎕IO←0\n",
    "DAY4 ← 236491 {⍺+⍳⍵-⍺-1} 713787  ⍝ Inclusive range"
   ]
  },
  {
   "cell_type": "code",
   "execution_count": 8,
   "metadata": {},
   "outputs": [],
   "source": [
    "]dinput\n",
    "Valid←{\n",
    "    digits←(6⍴10)⊤⍵           ⍝ Split into individual digits\n",
    "    adj←¯1↓digits,⍪1⌽digits   ⍝ Matrix of adjacent digits\n",
    "    (∧/≤/adj)∧∨/=/adj         ⍝ Each digit must be ≤ to its right, and least one pair of equal digits\n",
    "}"
   ]
  },
  {
   "cell_type": "code",
   "execution_count": 9,
   "metadata": {},
   "outputs": [
    {
     "data": {
      "text/html": [
       "<span style=\"white-space:pre; font-family: monospace\">1169\n",
       "</span>"
      ]
     },
     "execution_count": 9,
     "metadata": {},
     "output_type": "execute_result"
    }
   ],
   "source": [
    "+/Valid¨DAY4                  ⍝ part 1"
   ]
  },
  {
   "cell_type": "markdown",
   "metadata": {},
   "source": [
    "For part 2, the pairs rule is changed to mean that a pair cannot be part of a triple, or quad, or larger group of digits."
   ]
  },
  {
   "cell_type": "code",
   "execution_count": 10,
   "metadata": {},
   "outputs": [],
   "source": [
    "]dinput\n",
    "Valid2←{\n",
    "    runs←{¯2-/¯1,⍸1,⍨2≠/⍵}    ⍝ Count runs of equal digits \n",
    "    digits←(6⍴10)⊤⍵           ⍝ Split into individual digits\n",
    "    adj←¯1↓digits,⍪1⌽digits   ⍝ Matrix of adjacent digits\n",
    "    (∧/≤/adj)∧(2∊runs digits) ⍝ Same as before, but at least one pair not part of larger group\n",
    "}"
   ]
  },
  {
   "cell_type": "code",
   "execution_count": 11,
   "metadata": {},
   "outputs": [
    {
     "data": {
      "text/html": [
       "<span style=\"white-space:pre; font-family: monospace\">757\n",
       "</span>"
      ]
     },
     "execution_count": 11,
     "metadata": {},
     "output_type": "execute_result"
    }
   ],
   "source": [
    "+/Valid2¨DAY4                        ⍝ part 2"
   ]
  },
  {
   "cell_type": "markdown",
   "metadata": {},
   "source": [
    "## Day 5\n",
    "\n",
    "More intcode stuff. The mode settings, jumps and comparison operations https://adventofcode.com/2019/day/5"
   ]
  },
  {
   "cell_type": "code",
   "execution_count": 335,
   "metadata": {},
   "outputs": [],
   "source": [
    "⎕IO←0\n",
    "DAY5 ← ⊢⌿⍎¨⎕CSV'data/input05.data'"
   ]
  },
  {
   "cell_type": "code",
   "execution_count": 336,
   "metadata": {},
   "outputs": [],
   "source": [
    "]dinput\n",
    "Intcode←{                                  ⍝ Intcode interpreter, mk2\n",
    "    ⍺←0\n",
    "    state ← ⍵\n",
    "    eval ← {⍺=0: state[⍵] ⋄ ⍵}             ⍝ Position or immediate mode\n",
    "    op p1 p2 p3 ← 4↑⍺↓⍵                    ⍝ Skip anything before and take 4 cells\n",
    "    params ← 4 4 2 2 3 3 4 4 1             ⍝ Number of parameters by opcode\n",
    "    ops ← (1+⍳8), 99                       ⍝ Valid opcodes\n",
    "    m3 m2 m1 o2 o1 ← (5⍴10) ⊤ op           ⍝ Unpack the param modes\n",
    "    op ← 10 ⊥ o2 o1                        ⍝ Repack the opcode, to go from (say) 1001 to 1\n",
    "    count ← params[ops⍳op]                 ⍝ Number of params\n",
    "    parmod ← m1 m2 m3 ,⍪ p1 p2 p3          ⍝ Table combining modes and params\n",
    "    d1 d2 d3 ← 3↑eval/(¯1+count)↑parmod    ⍝ Pick relevant number of params, and apply modes\n",
    "    ip ← ⍺+count                           ⍝ Advance ip by the width of current instr\n",
    "    op ∊ 1 2: ip∇((op-1)⌷d1(+,×)d2)@p3 ⊢ ⍵ ⍝ Addition or multiplication\n",
    "    op=3: ip∇input@p1⊢⍵                    ⍝ Input\n",
    "    op=4: d1,ip∇⍵                          ⍝ Output\n",
    "    op∊5 6: ⍵∇⍨ip d2⌷⍨(op-5)⌷d1(≠,=)0      ⍝ Jumps \n",
    "    op∊7 8: ip∇((op-7)⌷d1(<,=)d2)@p3 ⊢ ⍵   ⍝ Comparison < or =\n",
    "    op=99: ⍬                               ⍝ Exit\n",
    "}"
   ]
  },
  {
   "cell_type": "code",
   "execution_count": 337,
   "metadata": {},
   "outputs": [
    {
     "data": {
      "text/html": [
       "<span style=\"white-space:pre; font-family: monospace\">16209841\n",
       "</span>"
      ]
     },
     "execution_count": 337,
     "metadata": {},
     "output_type": "execute_result"
    }
   ],
   "source": [
    "input←1 ⋄ ¯1↑Intcode DAY5 ⍝ part 1"
   ]
  },
  {
   "cell_type": "code",
   "execution_count": 338,
   "metadata": {},
   "outputs": [
    {
     "data": {
      "text/html": [
       "<span style=\"white-space:pre; font-family: monospace\">8834787\n",
       "</span>"
      ]
     },
     "execution_count": 338,
     "metadata": {},
     "output_type": "execute_result"
    }
   ],
   "source": [
    "input ← 5 ⋄ Intcode DAY5 ⍝ part 2"
   ]
  },
  {
   "cell_type": "markdown",
   "metadata": {},
   "source": [
    "## Day 6\n",
    "\n",
    "https://adventofcode.com/2019/day/6"
   ]
  },
  {
   "cell_type": "code",
   "execution_count": 193,
   "metadata": {},
   "outputs": [],
   "source": [
    "⍝ Read the file, and for each line, find all words (i.e split on paranthesis)\n",
    "⍝ We then transpose the matrix and destructure into two separate vectors, \n",
    "⍝ holding parents and direct descendants respectively\n",
    "\n",
    "(a b) ← ↓⍉↑ '\\w+' ⎕S '&' ¨ ⊃⎕NGET'data/input06.data'1 ⍝ The '&' means return the matching string"
   ]
  },
  {
   "cell_type": "code",
   "execution_count": 196,
   "metadata": {},
   "outputs": [
    {
     "data": {
      "text/html": [
       "<span style=\"white-space:pre; font-family: monospace\">292387\n",
       "</span>"
      ]
     },
     "execution_count": 196,
     "metadata": {},
     "output_type": "execute_result"
    }
   ],
   "source": [
    "parents ← b ⍳ a                  ⍝ parents gives the index into a of each item's parent.\n",
    "path ← {3::⍵ ⋄ ⍵,∇⍵⊃parents}     ⍝ The 3::⍵ construct returns the arg in case of an INDEX ERROR\n",
    "≢ ∊ path ¨ parents               ⍝ part 1 - apply path to each of the parent array, enlist and count"
   ]
  },
  {
   "cell_type": "markdown",
   "metadata": {},
   "source": [
    "For part two, find the path from YOU to SAN. As this is a tree, we can solve this as the paths of YOU to the centre plus the path of SAN to the centre with all common elements removed."
   ]
  },
  {
   "cell_type": "code",
   "execution_count": 273,
   "metadata": {},
   "outputs": [
    {
     "data": {
      "text/html": [
       "<span style=\"white-space:pre; font-family: monospace\">433\n",
       "</span>"
      ]
     },
     "execution_count": 273,
     "metadata": {},
     "output_type": "execute_result"
    }
   ],
   "source": [
    "{¯2+≢⍺(∪~∩)⍵}/path¨b⍳'YOU' 'SAN' ⍝ Tally of union minus intersection, minus two (as counting edges, not nodes)"
   ]
  },
  {
   "cell_type": "markdown",
   "metadata": {},
   "source": [
    "## Day 7\n",
    "\n",
    "https://adventofcode.com/2019/day/7\n",
    "\n",
    "Yet more intcoding for fun and profit. Previously we had the program be the right-hand argument of the Intcode function and the instruction pointer be the left-hand argument. For this task we need the Intcode interpreter be resumable, so the whole state must be external to the function so we can run several interconnected Intcode interpreters.\n"
   ]
  },
  {
   "cell_type": "code",
   "execution_count": 2,
   "metadata": {},
   "outputs": [],
   "source": [
    "⎕IO←0\n",
    "DAY7 ← ⊢⌿⍎¨⎕CSV'data/input07.data'"
   ]
  },
  {
   "cell_type": "code",
   "execution_count": 4,
   "metadata": {},
   "outputs": [
    {
     "data": {
      "text/html": [
       "<span style=\"white-space:pre; font-family: monospace\">┌─────────────────────────────────────────────────────────────────────────────────────────────────────────────────────────────────────────────────────────────────────────────────────────────────────────────────────────────────────────────────────────────────────────────────────────────────────────────────────────────────────────────────────────────────────────────────────────────────────────────────────────────────────────────────────────────────────────────────────────────────────────────────────────────────────────────────────────────────────────────────────────────────────────────────────────────────────────────────────────────────────────────────────────────────────────────────────────────────────────────────────────────────────────────────────────────────────────────────────────────────────────────────────────────────────────────────────────────────────────────────────────────────────────────────────────────────────────────────────────────────────────────────────────────────────────────────────────────────────────────────────────────────────────────────────────────────────────────────────────────────────────────────────────────────────────────────────────────────────────────────────────────────────────────────────────────────────────┬─┬┬┬─┐\n",
       "│3 8 1001 8 10 8 105 1 0 0 21 42 67 84 109 122 203 284 365 446 99999 3 9 1002 9 3 9 1001 9 5 9 102 4 9 9 1001 9 3 9 4 9 99 3 9 1001 9 5 9 1002 9 3 9 1001 9 4 9 102 3 9 9 101 3 9 9 4 9 99 3 9 101 5 9 9 1002 9 3 9 101 5 9 9 4 9 99 3 9 102 5 9 9 101 5 9 9 102 3 9 9 101 3 9 9 102 2 9 9 4 9 99 3 9 101 2 9 9 1002 9 3 9 4 9 99 3 9 101 2 9 9 4 9 3 9 101 1 9 9 4 9 3 9 101 1 9 9 4 9 3 9 1001 9 1 9 4 9 3 9 101 1 9 9 4 9 3 9 1002 9 2 9 4 9 3 9 1002 9 2 9 4 9 3 9 1001 9 2 9 4 9 3 9 101 1 9 9 4 9 3 9 1002 9 2 9 4 9 99 3 9 1001 9 1 9 4 9 3 9 101 2 9 9 4 9 3 9 102 2 9 9 4 9 3 9 101 1 9 9 4 9 3 9 102 2 9 9 4 9 3 9 1001 9 1 9 4 9 3 9 101 1 9 9 4 9 3 9 1002 9 2 9 4 9 3 9 101 2 9 9 4 9 3 9 1002 9 2 9 4 9 99 3 9 101 2 9 9 4 9 3 9 101 2 9 9 4 9 3 9 101 2 9 9 4 9 3 9 101 1 9 9 4 9 3 9 101 1 9 9 4 9 3 9 102 2 9 9 4 9 3 9 1002 9 2 9 4 9 3 9 1002 9 2 9 4 9 3 9 101 2 9 9 4 9 3 9 1001 9 1 9 4 9 99 3 9 1001 9 1 9 4 9 3 9 101 1 9 9 4 9 3 9 102 2 9 9 4 9 3 9 1002 9 2 9 4 9 3 9 1001 9 2 9 4 9 3 9 1001 9 1 9 4 9 3 9 1001 9 2 9 4 9 3 9 1002 9 2 9 4 9 3 9 1002 9 2 9 4 9 3 9 102 2 9 9 4 9 99 3 9 102 2 9 9 4 9 3 9 1002 9 2 9 4 9 3 9 101 2 9 9 4 9 3 9 101 2 9 9 4 9 3 9 101 1 9 9 4 9 3 9 1002 9 2 9 4 9 3 9 101 1 9 9 4 9 3 9 1001 9 2 9 4 9 3 9 102 2 9 9 4 9 3 9 101 1 9 9 4 9 99│0│││0│\n",
       "├─────────────────────────────────────────────────────────────────────────────────────────────────────────────────────────────────────────────────────────────────────────────────────────────────────────────────────────────────────────────────────────────────────────────────────────────────────────────────────────────────────────────────────────────────────────────────────────────────────────────────────────────────────────────────────────────────────────────────────────────────────────────────────────────────────────────────────────────────────────────────────────────────────────────────────────────────────────────────────────────────────────────────────────────────────────────────────────────────────────────────────────────────────────────────────────────────────────────────────────────────────────────────────────────────────────────────────────────────────────────────────────────────────────────────────────────────────────────────────────────────────────────────────────────────────────────────────────────────────────────────────────────────────────────────────────────────────────────────────────────────────────────────────────────────────────────────────────────────────────────────────────────────────────────────────────────────────────┼─┼┼┼─┤\n",
       "│3 8 1001 8 10 8 105 1 0 0 21 42 67 84 109 122 203 284 365 446 99999 3 9 1002 9 3 9 1001 9 5 9 102 4 9 9 1001 9 3 9 4 9 99 3 9 1001 9 5 9 1002 9 3 9 1001 9 4 9 102 3 9 9 101 3 9 9 4 9 99 3 9 101 5 9 9 1002 9 3 9 101 5 9 9 4 9 99 3 9 102 5 9 9 101 5 9 9 102 3 9 9 101 3 9 9 102 2 9 9 4 9 99 3 9 101 2 9 9 1002 9 3 9 4 9 99 3 9 101 2 9 9 4 9 3 9 101 1 9 9 4 9 3 9 101 1 9 9 4 9 3 9 1001 9 1 9 4 9 3 9 101 1 9 9 4 9 3 9 1002 9 2 9 4 9 3 9 1002 9 2 9 4 9 3 9 1001 9 2 9 4 9 3 9 101 1 9 9 4 9 3 9 1002 9 2 9 4 9 99 3 9 1001 9 1 9 4 9 3 9 101 2 9 9 4 9 3 9 102 2 9 9 4 9 3 9 101 1 9 9 4 9 3 9 102 2 9 9 4 9 3 9 1001 9 1 9 4 9 3 9 101 1 9 9 4 9 3 9 1002 9 2 9 4 9 3 9 101 2 9 9 4 9 3 9 1002 9 2 9 4 9 99 3 9 101 2 9 9 4 9 3 9 101 2 9 9 4 9 3 9 101 2 9 9 4 9 3 9 101 1 9 9 4 9 3 9 101 1 9 9 4 9 3 9 102 2 9 9 4 9 3 9 1002 9 2 9 4 9 3 9 1002 9 2 9 4 9 3 9 101 2 9 9 4 9 3 9 1001 9 1 9 4 9 99 3 9 1001 9 1 9 4 9 3 9 101 1 9 9 4 9 3 9 102 2 9 9 4 9 3 9 1002 9 2 9 4 9 3 9 1001 9 2 9 4 9 3 9 1001 9 1 9 4 9 3 9 1001 9 2 9 4 9 3 9 1002 9 2 9 4 9 3 9 1002 9 2 9 4 9 3 9 102 2 9 9 4 9 99 3 9 102 2 9 9 4 9 3 9 1002 9 2 9 4 9 3 9 101 2 9 9 4 9 3 9 101 2 9 9 4 9 3 9 101 1 9 9 4 9 3 9 1002 9 2 9 4 9 3 9 101 1 9 9 4 9 3 9 1001 9 2 9 4 9 3 9 102 2 9 9 4 9 3 9 101 1 9 9 4 9 99│0│││0│\n",
       "├─────────────────────────────────────────────────────────────────────────────────────────────────────────────────────────────────────────────────────────────────────────────────────────────────────────────────────────────────────────────────────────────────────────────────────────────────────────────────────────────────────────────────────────────────────────────────────────────────────────────────────────────────────────────────────────────────────────────────────────────────────────────────────────────────────────────────────────────────────────────────────────────────────────────────────────────────────────────────────────────────────────────────────────────────────────────────────────────────────────────────────────────────────────────────────────────────────────────────────────────────────────────────────────────────────────────────────────────────────────────────────────────────────────────────────────────────────────────────────────────────────────────────────────────────────────────────────────────────────────────────────────────────────────────────────────────────────────────────────────────────────────────────────────────────────────────────────────────────────────────────────────────────────────────────────────────────────────┼─┼┼┼─┤\n",
       "│3 8 1001 8 10 8 105 1 0 0 21 42 67 84 109 122 203 284 365 446 99999 3 9 1002 9 3 9 1001 9 5 9 102 4 9 9 1001 9 3 9 4 9 99 3 9 1001 9 5 9 1002 9 3 9 1001 9 4 9 102 3 9 9 101 3 9 9 4 9 99 3 9 101 5 9 9 1002 9 3 9 101 5 9 9 4 9 99 3 9 102 5 9 9 101 5 9 9 102 3 9 9 101 3 9 9 102 2 9 9 4 9 99 3 9 101 2 9 9 1002 9 3 9 4 9 99 3 9 101 2 9 9 4 9 3 9 101 1 9 9 4 9 3 9 101 1 9 9 4 9 3 9 1001 9 1 9 4 9 3 9 101 1 9 9 4 9 3 9 1002 9 2 9 4 9 3 9 1002 9 2 9 4 9 3 9 1001 9 2 9 4 9 3 9 101 1 9 9 4 9 3 9 1002 9 2 9 4 9 99 3 9 1001 9 1 9 4 9 3 9 101 2 9 9 4 9 3 9 102 2 9 9 4 9 3 9 101 1 9 9 4 9 3 9 102 2 9 9 4 9 3 9 1001 9 1 9 4 9 3 9 101 1 9 9 4 9 3 9 1002 9 2 9 4 9 3 9 101 2 9 9 4 9 3 9 1002 9 2 9 4 9 99 3 9 101 2 9 9 4 9 3 9 101 2 9 9 4 9 3 9 101 2 9 9 4 9 3 9 101 1 9 9 4 9 3 9 101 1 9 9 4 9 3 9 102 2 9 9 4 9 3 9 1002 9 2 9 4 9 3 9 1002 9 2 9 4 9 3 9 101 2 9 9 4 9 3 9 1001 9 1 9 4 9 99 3 9 1001 9 1 9 4 9 3 9 101 1 9 9 4 9 3 9 102 2 9 9 4 9 3 9 1002 9 2 9 4 9 3 9 1001 9 2 9 4 9 3 9 1001 9 1 9 4 9 3 9 1001 9 2 9 4 9 3 9 1002 9 2 9 4 9 3 9 1002 9 2 9 4 9 3 9 102 2 9 9 4 9 99 3 9 102 2 9 9 4 9 3 9 1002 9 2 9 4 9 3 9 101 2 9 9 4 9 3 9 101 2 9 9 4 9 3 9 101 1 9 9 4 9 3 9 1002 9 2 9 4 9 3 9 101 1 9 9 4 9 3 9 1001 9 2 9 4 9 3 9 102 2 9 9 4 9 3 9 101 1 9 9 4 9 99│0│││0│\n",
       "├─────────────────────────────────────────────────────────────────────────────────────────────────────────────────────────────────────────────────────────────────────────────────────────────────────────────────────────────────────────────────────────────────────────────────────────────────────────────────────────────────────────────────────────────────────────────────────────────────────────────────────────────────────────────────────────────────────────────────────────────────────────────────────────────────────────────────────────────────────────────────────────────────────────────────────────────────────────────────────────────────────────────────────────────────────────────────────────────────────────────────────────────────────────────────────────────────────────────────────────────────────────────────────────────────────────────────────────────────────────────────────────────────────────────────────────────────────────────────────────────────────────────────────────────────────────────────────────────────────────────────────────────────────────────────────────────────────────────────────────────────────────────────────────────────────────────────────────────────────────────────────────────────────────────────────────────────────────┼─┼┼┼─┤\n",
       "│3 8 1001 8 10 8 105 1 0 0 21 42 67 84 109 122 203 284 365 446 99999 3 9 1002 9 3 9 1001 9 5 9 102 4 9 9 1001 9 3 9 4 9 99 3 9 1001 9 5 9 1002 9 3 9 1001 9 4 9 102 3 9 9 101 3 9 9 4 9 99 3 9 101 5 9 9 1002 9 3 9 101 5 9 9 4 9 99 3 9 102 5 9 9 101 5 9 9 102 3 9 9 101 3 9 9 102 2 9 9 4 9 99 3 9 101 2 9 9 1002 9 3 9 4 9 99 3 9 101 2 9 9 4 9 3 9 101 1 9 9 4 9 3 9 101 1 9 9 4 9 3 9 1001 9 1 9 4 9 3 9 101 1 9 9 4 9 3 9 1002 9 2 9 4 9 3 9 1002 9 2 9 4 9 3 9 1001 9 2 9 4 9 3 9 101 1 9 9 4 9 3 9 1002 9 2 9 4 9 99 3 9 1001 9 1 9 4 9 3 9 101 2 9 9 4 9 3 9 102 2 9 9 4 9 3 9 101 1 9 9 4 9 3 9 102 2 9 9 4 9 3 9 1001 9 1 9 4 9 3 9 101 1 9 9 4 9 3 9 1002 9 2 9 4 9 3 9 101 2 9 9 4 9 3 9 1002 9 2 9 4 9 99 3 9 101 2 9 9 4 9 3 9 101 2 9 9 4 9 3 9 101 2 9 9 4 9 3 9 101 1 9 9 4 9 3 9 101 1 9 9 4 9 3 9 102 2 9 9 4 9 3 9 1002 9 2 9 4 9 3 9 1002 9 2 9 4 9 3 9 101 2 9 9 4 9 3 9 1001 9 1 9 4 9 99 3 9 1001 9 1 9 4 9 3 9 101 1 9 9 4 9 3 9 102 2 9 9 4 9 3 9 1002 9 2 9 4 9 3 9 1001 9 2 9 4 9 3 9 1001 9 1 9 4 9 3 9 1001 9 2 9 4 9 3 9 1002 9 2 9 4 9 3 9 1002 9 2 9 4 9 3 9 102 2 9 9 4 9 99 3 9 102 2 9 9 4 9 3 9 1002 9 2 9 4 9 3 9 101 2 9 9 4 9 3 9 101 2 9 9 4 9 3 9 101 1 9 9 4 9 3 9 1002 9 2 9 4 9 3 9 101 1 9 9 4 9 3 9 1001 9 2 9 4 9 3 9 102 2 9 9 4 9 3 9 101 1 9 9 4 9 99│0│││0│\n",
       "├─────────────────────────────────────────────────────────────────────────────────────────────────────────────────────────────────────────────────────────────────────────────────────────────────────────────────────────────────────────────────────────────────────────────────────────────────────────────────────────────────────────────────────────────────────────────────────────────────────────────────────────────────────────────────────────────────────────────────────────────────────────────────────────────────────────────────────────────────────────────────────────────────────────────────────────────────────────────────────────────────────────────────────────────────────────────────────────────────────────────────────────────────────────────────────────────────────────────────────────────────────────────────────────────────────────────────────────────────────────────────────────────────────────────────────────────────────────────────────────────────────────────────────────────────────────────────────────────────────────────────────────────────────────────────────────────────────────────────────────────────────────────────────────────────────────────────────────────────────────────────────────────────────────────────────────────────────────┼─┼┼┼─┤\n",
       "│3 8 1001 8 10 8 105 1 0 0 21 42 67 84 109 122 203 284 365 446 99999 3 9 1002 9 3 9 1001 9 5 9 102 4 9 9 1001 9 3 9 4 9 99 3 9 1001 9 5 9 1002 9 3 9 1001 9 4 9 102 3 9 9 101 3 9 9 4 9 99 3 9 101 5 9 9 1002 9 3 9 101 5 9 9 4 9 99 3 9 102 5 9 9 101 5 9 9 102 3 9 9 101 3 9 9 102 2 9 9 4 9 99 3 9 101 2 9 9 1002 9 3 9 4 9 99 3 9 101 2 9 9 4 9 3 9 101 1 9 9 4 9 3 9 101 1 9 9 4 9 3 9 1001 9 1 9 4 9 3 9 101 1 9 9 4 9 3 9 1002 9 2 9 4 9 3 9 1002 9 2 9 4 9 3 9 1001 9 2 9 4 9 3 9 101 1 9 9 4 9 3 9 1002 9 2 9 4 9 99 3 9 1001 9 1 9 4 9 3 9 101 2 9 9 4 9 3 9 102 2 9 9 4 9 3 9 101 1 9 9 4 9 3 9 102 2 9 9 4 9 3 9 1001 9 1 9 4 9 3 9 101 1 9 9 4 9 3 9 1002 9 2 9 4 9 3 9 101 2 9 9 4 9 3 9 1002 9 2 9 4 9 99 3 9 101 2 9 9 4 9 3 9 101 2 9 9 4 9 3 9 101 2 9 9 4 9 3 9 101 1 9 9 4 9 3 9 101 1 9 9 4 9 3 9 102 2 9 9 4 9 3 9 1002 9 2 9 4 9 3 9 1002 9 2 9 4 9 3 9 101 2 9 9 4 9 3 9 1001 9 1 9 4 9 99 3 9 1001 9 1 9 4 9 3 9 101 1 9 9 4 9 3 9 102 2 9 9 4 9 3 9 1002 9 2 9 4 9 3 9 1001 9 2 9 4 9 3 9 1001 9 1 9 4 9 3 9 1001 9 2 9 4 9 3 9 1002 9 2 9 4 9 3 9 1002 9 2 9 4 9 3 9 102 2 9 9 4 9 99 3 9 102 2 9 9 4 9 3 9 1002 9 2 9 4 9 3 9 101 2 9 9 4 9 3 9 101 2 9 9 4 9 3 9 101 1 9 9 4 9 3 9 1002 9 2 9 4 9 3 9 101 1 9 9 4 9 3 9 1001 9 2 9 4 9 3 9 102 2 9 9 4 9 3 9 101 1 9 9 4 9 99│0│││0│\n",
       "└─────────────────────────────────────────────────────────────────────────────────────────────────────────────────────────────────────────────────────────────────────────────────────────────────────────────────────────────────────────────────────────────────────────────────────────────────────────────────────────────────────────────────────────────────────────────────────────────────────────────────────────────────────────────────────────────────────────────────────────────────────────────────────────────────────────────────────────────────────────────────────────────────────────────────────────────────────────────────────────────────────────────────────────────────────────────────────────────────────────────────────────────────────────────────────────────────────────────────────────────────────────────────────────────────────────────────────────────────────────────────────────────────────────────────────────────────────────────────────────────────────────────────────────────────────────────────────────────────────────────────────────────────────────────────────────────────────────────────────────────────────────────────────────────────────────────────────────────────────────────────────────────────────────────────────────────────────────┴─┴┴┴─┘\n",
       "</span>"
      ]
     },
     "execution_count": 4,
     "metadata": {},
     "output_type": "execute_result"
    }
   ],
   "source": [
    "amps ← 5 5 ⍴ DAY7 0 ⍬ ⍬ 0 ⍝ Five intcode machine states"
   ]
  },
  {
   "cell_type": "code",
   "execution_count": null,
   "metadata": {},
   "outputs": [],
   "source": [
    "]dinput\n",
    "Intcode←{                                          ⍝ Intcode interpreter, mk3 \n",
    "    index ← ⍵\n",
    "    size ← ≢amps\n",
    "    state ip input output terminated ← ⍵⌷amps\n",
    "    eval ← {⍺=0: state[0;⍵] ⋄ ⍵}                   ⍝ Position or immediate mode\n",
    "    op p1 p2 p3 ← 4↑ip↓state                       ⍝ Skip anything before and take 4 cells\n",
    "    params ← 4 4 2 2 3 3 4 4 1                     ⍝ Number of parameters by opcode\n",
    "    ops ← (1+⍳8), 99                               ⍝ Valid opcodes\n",
    "    m3 m2 m1 o2 o1 ← (5⍴10) ⊤ op                   ⍝ Unpack the param modes\n",
    "    op ← 10 ⊥ o2 o1                                ⍝ Repack opcode, to go from (say) 1001 to 1\n",
    "    count ← params[ops⍳op]                         ⍝ Number of params\n",
    "    parmod ← m1 m2 m3 ,⍪ p1 p2 p3                  ⍝ Table combining modes and params\n",
    "    d1 d2 d3 ← 3↑eval/(¯1+count)↑parmod            ⍝ Pick relevant number of params, and apply modes\n",
    "    (0=≢input)∧op=3: ⍬                             ⍝ Input underrun; bail\n",
    "    machines[⍵;1] +← count                         ⍝ Advance ip by the width of current instr\n",
    "    op ∊ 1 2: ∇amps[⍵;0;p3]←((op-1)⌷d1(+,×)d2) ⊢ ⍵ ⍝ Addition or multiplication\n",
    "    op=3: ∇amps[⍵;0;p1]←input ⊢ ⍵                  ⍝ Input\n",
    "    op=4: ∇amps[size|⍵+1;2],←d1 ⊢ ⍵                ⍝ Output goes to the input buffer of next machine\n",
    "    op∊5 6: ∇amps[⍵;1]←d2⌷⍨(op-5)⌷d1(≠,=)0 ⊢ ⍵     ⍝ Jumps\n",
    "    op∊7 8: ∇amps[⍵;0;p3]←((op-7)⌷d1(<,=)d2) ⊢ ⍵   ⍝ Comparison < or =\n",
    "    op=99: amps[⍵;4]←1 ⊢ ⍬                         ⍝ Exit\n",
    "}"
   ]
  }
 ],
 "metadata": {
  "kernelspec": {
   "display_name": "Dyalog APL",
   "language": "apl",
   "name": "dyalog-kernel"
  },
  "language_info": {
   "file_extension": ".apl",
   "mimetype": "text/apl",
   "name": "APL"
  }
 },
 "nbformat": 4,
 "nbformat_minor": 2
}
