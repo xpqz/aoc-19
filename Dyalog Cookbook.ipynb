{
 "cells": [
  {
   "cell_type": "markdown",
   "metadata": {},
   "source": [
    "## Dyalog recipes\n"
   ]
  },
  {
   "cell_type": "markdown",
   "metadata": {},
   "source": [
    "### Regular expressions\n",
    "\n",
    "Dyalog supports the full PCRE syntax via ⎕S and ⎕R\n",
    "\n",
    "See http://archive.vector.org.uk/art10500870"
   ]
  },
  {
   "cell_type": "code",
   "execution_count": 6,
   "metadata": {},
   "outputs": [
    {
     "data": {
      "text/html": [
       "<span style=\"white-space:pre; font-family: monospace\">┌───┬───┬───┬──┬───┬───┐\n",
       "│the│cat│sat│on│the│mat│\n",
       "└───┴───┴───┴──┴───┴───┘\n",
       "</span>"
      ]
     },
     "execution_count": 6,
     "metadata": {},
     "output_type": "execute_result"
    }
   ],
   "source": [
    "⍝ Get all words. The config-string '&' returns the matched string.\n",
    "'\\w+' ⎕S '&' ⊣ 'the cat sat on the mat'"
   ]
  },
  {
   "cell_type": "code",
   "execution_count": 7,
   "metadata": {},
   "outputs": [
    {
     "data": {
      "text/html": [
       "<span style=\"white-space:pre; font-family: monospace\">┌───┬───┬───┬──┬───┬───┐\n",
       "│eht│tac│tas│no│eht│tam│\n",
       "└───┴───┴───┴──┴───┴───┘\n",
       "</span>"
      ]
     },
     "execution_count": 7,
     "metadata": {},
     "output_type": "execute_result"
    }
   ],
   "source": [
    "⍝ Reverse each word\n",
    "'\\w+' ⎕S {⌽⍵.Match} ⊣ 'the cat sat on the mat'"
   ]
  },
  {
   "cell_type": "markdown",
   "metadata": {},
   "source": [
    "Note that ⎕S is a dyadic function that returns a function. Left arg is always the pattern. Right arg is either a transformation function or a config string."
   ]
  },
  {
   "cell_type": "code",
   "execution_count": 8,
   "metadata": {},
   "outputs": [
    {
     "data": {
      "text/html": [
       "<span style=\"white-space:pre; font-family: monospace\">┌───────┐\n",
       "│abriole│\n",
       "└───────┘\n",
       "</span>"
      ]
     },
     "execution_count": 8,
     "metadata": {},
     "output_type": "execute_result"
    }
   ],
   "source": [
    "⍝ Capture groups\n",
    "'c([^t]+)t' ⎕S '\\1' ⊣ 'The cabriolet parked on the road'"
   ]
  },
  {
   "cell_type": "markdown",
   "metadata": {},
   "source": [
    "The config string is used to specify the capture group following perl conventions, \\1, \\2 etc"
   ]
  },
  {
   "cell_type": "markdown",
   "metadata": {},
   "source": [
    "*Example*: given a vector of strings ABC)DE FDV)YST etc, make into two vectors:\n",
    "\n",
    "a ← ABC FDV\n",
    "\n",
    "b ← DE YST\n",
    "\n",
    "etc"
   ]
  },
  {
   "cell_type": "code",
   "execution_count": 19,
   "metadata": {},
   "outputs": [
    {
     "data": {
      "text/html": [
       "<span style=\"white-space:pre; font-family: monospace\">┌───────────────────────┬───────────────────────┐\n",
       "│┌─┬─┬─┬─┬─┬─┬─┬─┬─┬─┬─┐│┌─┬─┬─┬─┬─┬─┬─┬─┬─┬─┬─┐│\n",
       "││A│B│C│D│E│B│G│D│E│J│K│││B│C│D│E│F│G│H│I│J│K│L││\n",
       "│└─┴─┴─┴─┴─┴─┴─┴─┴─┴─┴─┘│└─┴─┴─┴─┴─┴─┴─┴─┴─┴─┴─┘│\n",
       "└───────────────────────┴───────────────────────┘\n",
       "</span>"
      ]
     },
     "execution_count": 19,
     "metadata": {},
     "output_type": "execute_result"
    }
   ],
   "source": [
    "data ← 'A)B' 'B)C' 'C)D' 'D)E' 'E)F' 'B)G' 'G)H' 'D)I' 'E)J' 'J)K' 'K)L'\n",
    "a b ← ↓⍉↑ '\\w+' ⎕S '&' ¨ data\n",
    "a b"
   ]
  },
  {
   "cell_type": "markdown",
   "metadata": {},
   "source": [
    "The ⎕R function does a replace:"
   ]
  },
  {
   "cell_type": "code",
   "execution_count": 35,
   "metadata": {},
   "outputs": [
    {
     "data": {
      "text/html": [
       "<span style=\"white-space:pre; font-family: monospace\">mSSSSSSSppS\n",
       "</span>"
      ]
     },
     "execution_count": 35,
     "metadata": {},
     "output_type": "execute_result"
    }
   ],
   "source": [
    "'[si]'⎕R'S' ⊢ 'mississippi'"
   ]
  },
  {
   "cell_type": "code",
   "execution_count": 37,
   "metadata": {},
   "outputs": [
    {
     "data": {
      "text/html": [
       "<span style=\"white-space:pre; font-family: monospace\">miSSissippi\n",
       "</span>"
      ]
     },
     "execution_count": 37,
     "metadata": {},
     "output_type": "execute_result"
    }
   ],
   "source": [
    "'s'⎕R'S'⍠'ML' 2 ⊢ 'mississippi' ⍝ Set the \"match limit\" to 2, with the variant operator ⍠"
   ]
  },
  {
   "cell_type": "markdown",
   "metadata": {},
   "source": [
    "## Examples\n",
    "\n",
    "FizzBuzz, as given in https://rosettacode.org/wiki/FizzBuzz#APL"
   ]
  },
  {
   "cell_type": "code",
   "execution_count": 8,
   "metadata": {},
   "outputs": [
    {
     "data": {
      "text/html": [
       "<span style=\"white-space:pre; font-family: monospace\">┌─┬─┬──────┬─┬──────┬──────┬─┬─┬──────┬──────┬──┬──────┬──┬──┬──────────┬──┬──┬──────┬──┬──────┐\n",
       "│1│2│┌────┐│4│┌────┐│┌────┐│7│8│┌────┐│┌────┐│11│┌────┐│13│14│┌────────┐│16│17│┌────┐│19│┌────┐│\n",
       "│ │ ││Fizz││ ││Buzz│││Fizz││ │ ││Fizz│││Buzz││  ││Fizz││  │  ││FizzBuzz││  │  ││Fizz││  ││Buzz││\n",
       "│ │ │└────┘│ │└────┘│└────┘│ │ │└────┘│└────┘│  │└────┘│  │  │└────────┘│  │  │└────┘│  │└────┘│\n",
       "└─┴─┴──────┴─┴──────┴──────┴─┴─┴──────┴──────┴──┴──────┴──┴──┴──────────┴──┴──┴──────┴──┴──────┘\n",
       "</span>"
      ]
     },
     "execution_count": 8,
     "metadata": {},
     "output_type": "execute_result"
    }
   ],
   "source": [
    "⎕IO←0 ⍝ zero-based indexing\n",
    "{⍵ 'Fizz' 'Buzz' 'FizzBuzz'[+/1 2×0=3 5|⍵]}¨1+⍳20"
   ]
  },
  {
   "cell_type": "markdown",
   "metadata": {},
   "source": [
    "The indexing function +/1 2×0=3 5|⍵ generates 0 for numbers not divisible by either 3 or 5, 1 for divisible by 3, 2 for divisible by 5 and 3 for divisible by 3 and 5. So how does that work?\n",
    "\n",
    "Consider it right to left:"
   ]
  },
  {
   "cell_type": "code",
   "execution_count": 9,
   "metadata": {},
   "outputs": [
    {
     "data": {
      "text/html": [
       "<span style=\"white-space:pre; font-family: monospace\">┌───┬───┬───┐\n",
       "│1 0│2 1│0 0│\n",
       "└───┴───┴───┘\n",
       "</span>"
      ]
     },
     "execution_count": 9,
     "metadata": {},
     "output_type": "execute_result"
    }
   ],
   "source": [
    "{3 5|⍵}¨10 11 15 ⍝ Return length 2 vector with remainder from div by 3 and 5"
   ]
  },
  {
   "cell_type": "markdown",
   "metadata": {},
   "source": [
    "Next step is to pick out the zeros"
   ]
  },
  {
   "cell_type": "code",
   "execution_count": 12,
   "metadata": {},
   "outputs": [
    {
     "data": {
      "text/html": [
       "<span style=\"white-space:pre; font-family: monospace\">┌───┬───┬───┐\n",
       "│0 1│0 0│1 1│\n",
       "└───┴───┴───┘\n",
       "</span>"
      ]
     },
     "execution_count": 12,
     "metadata": {},
     "output_type": "execute_result"
    }
   ],
   "source": [
    "{0= 3 5|⍵}¨10 11 15 ⍝ Return length 2 vector with remainder from div by 3 and 5, highlighing zeros"
   ]
  },
  {
   "cell_type": "markdown",
   "metadata": {},
   "source": [
    "...and multiply by 1 and 2 respectively:"
   ]
  },
  {
   "cell_type": "code",
   "execution_count": 13,
   "metadata": {},
   "outputs": [
    {
     "data": {
      "text/html": [
       "<span style=\"white-space:pre; font-family: monospace\">┌───┬───┬───┐\n",
       "│0 2│0 0│1 2│\n",
       "└───┴───┴───┘\n",
       "</span>"
      ]
     },
     "execution_count": 13,
     "metadata": {},
     "output_type": "execute_result"
    }
   ],
   "source": [
    "{1 2× 0= 3 5| ⍵}¨10 11 15 ⍝ ...multiplied by 1 and 2"
   ]
  },
  {
   "cell_type": "markdown",
   "metadata": {},
   "source": [
    "Now what remains is to sum that up:"
   ]
  },
  {
   "cell_type": "code",
   "execution_count": 14,
   "metadata": {},
   "outputs": [
    {
     "data": {
      "text/html": [
       "<span style=\"white-space:pre; font-family: monospace\">2 0 3\n",
       "</span>"
      ]
     },
     "execution_count": 14,
     "metadata": {},
     "output_type": "execute_result"
    }
   ],
   "source": [
    "{+/1 2× 0= 3 5|⍵}¨10 11 15 ⍝ ...multiplied by 1 and 2, and summed"
   ]
  },
  {
   "cell_type": "markdown",
   "metadata": {},
   "source": [
    "We can now index into the vector containing our output text:"
   ]
  },
  {
   "cell_type": "code",
   "execution_count": 16,
   "metadata": {},
   "outputs": [
    {
     "data": {
      "text/html": [
       "<span style=\"white-space:pre; font-family: monospace\">┌──────┬──────┬──┬──────────┐\n",
       "│┌────┐│┌────┐│11│┌────────┐│\n",
       "││Fizz│││Buzz││  ││FizzBuzz││\n",
       "│└────┘│└────┘│  │└────────┘│\n",
       "└──────┴──────┴──┴──────────┘\n",
       "</span>"
      ]
     },
     "execution_count": 16,
     "metadata": {},
     "output_type": "execute_result"
    }
   ],
   "source": [
    "{⍵ 'Fizz' 'Buzz' 'FizzBuzz'[+/ 1 2× 0= 3 5| ⍵]} ¨ 3 10 11 15"
   ]
  },
  {
   "cell_type": "markdown",
   "metadata": {},
   "source": [
    "### Split a string into a vector of a single char and a number\n",
    "\n",
    "E.g 'X1234' gives 'X' 1234 -- via @Adám on APLOrchard"
   ]
  },
  {
   "cell_type": "code",
   "execution_count": 65,
   "metadata": {},
   "outputs": [],
   "source": [
    "⎕IO←0 ⍝ zero-based indexing"
   ]
  },
  {
   "cell_type": "code",
   "execution_count": 66,
   "metadata": {},
   "outputs": [
    {
     "data": {
      "text/html": [
       "<span style=\"white-space:pre; font-family: monospace\">X 1234\n",
       "</span>"
      ]
     },
     "execution_count": 66,
     "metadata": {},
     "output_type": "execute_result"
    }
   ],
   "source": [
    "1(↑,∘⍎↓)'X1234'"
   ]
  },
  {
   "cell_type": "markdown",
   "metadata": {},
   "source": [
    "Of course, using ⍎ on unfiltered user input can be dangerous. "
   ]
  },
  {
   "cell_type": "code",
   "execution_count": 70,
   "metadata": {},
   "outputs": [
    {
     "data": {
      "text/html": [
       "<span style=\"white-space:pre; font-family: monospace\">X 4234\n",
       "</span>"
      ]
     },
     "execution_count": 70,
     "metadata": {},
     "output_type": "execute_result"
    }
   ],
   "source": [
    "(⊃,∘⍎∩∘⎕D)'X4234' ⍝ safer, but can throw an error."
   ]
  },
  {
   "cell_type": "markdown",
   "metadata": {},
   "source": [
    "The industrial strength version."
   ]
  },
  {
   "cell_type": "code",
   "execution_count": 69,
   "metadata": {},
   "outputs": [
    {
     "data": {
      "text/html": [
       "<span style=\"white-space:pre; font-family: monospace\">X 1234\n",
       "</span>"
      ]
     },
     "execution_count": 69,
     "metadata": {},
     "output_type": "execute_result"
    }
   ],
   "source": [
    "1(↑,1⊃∘⎕VFI↓)'X1234' "
   ]
  },
  {
   "cell_type": "markdown",
   "metadata": {},
   "source": [
    "We can see how the first version is derived from a perhaps more obvious starting point:"
   ]
  },
  {
   "cell_type": "code",
   "execution_count": 71,
   "metadata": {},
   "outputs": [
    {
     "data": {
      "text/html": [
       "<span style=\"white-space:pre; font-family: monospace\">X 1234\n",
       "</span>"
      ]
     },
     "execution_count": 71,
     "metadata": {},
     "output_type": "execute_result"
    },
    {
     "data": {
      "text/html": [
       "<span style=\"white-space:pre; font-family: monospace\">X 1234\n",
       "</span>"
      ]
     },
     "execution_count": 71,
     "metadata": {},
     "output_type": "execute_result"
    },
    {
     "data": {
      "text/html": [
       "<span style=\"white-space:pre; font-family: monospace\">X 1234\n",
       "</span>"
      ]
     },
     "execution_count": 71,
     "metadata": {},
     "output_type": "execute_result"
    },
    {
     "data": {
      "text/html": [
       "<span style=\"white-space:pre; font-family: monospace\">X 1234\n",
       "</span>"
      ]
     },
     "execution_count": 71,
     "metadata": {},
     "output_type": "execute_result"
    },
    {
     "data": {
      "text/html": [
       "<span style=\"white-space:pre; font-family: monospace\">X 1234\n",
       "</span>"
      ]
     },
     "execution_count": 71,
     "metadata": {},
     "output_type": "execute_result"
    },
    {
     "data": {
      "text/html": [
       "<span style=\"white-space:pre; font-family: monospace\">X 1234\n",
       "</span>"
      ]
     },
     "execution_count": 71,
     "metadata": {},
     "output_type": "execute_result"
    }
   ],
   "source": [
    "{a←1↑⍵ ⋄ b←⍎1↓⍵ ⋄ a,b} 'X1234' ⍝ Take head, eval tail\n",
    "\n",
    "{(1↑⍵),(⍎1↓⍵)} 'X1234'         ⍝ substitute variables\n",
    "1 {(⍺↑⍵),(⍎⍺↓⍵)} 'X1234'       ⍝ break out 1\n",
    "1 ((⊣↑⊢),(⍎⊣↓⊢)) 'X1234'       ⍝ train\n",
    "1 ((↑),(⍎↓)) 'X1234'           ⍝ simplify\n",
    "1 (↑,∘⍎↓) 'X1234'              ⍝ remove parens"
   ]
  },
  {
   "cell_type": "markdown",
   "metadata": {},
   "source": [
    "### Partition a vector into groups of equal elements"
   ]
  },
  {
   "cell_type": "code",
   "execution_count": 33,
   "metadata": {},
   "outputs": [
    {
     "data": {
      "text/html": [
       "<span style=\"white-space:pre; font-family: monospace\">┌─────────┬───┬─┬───────┬───┬───┐\n",
       "│1 1 1 1 1│2 2│1│4 4 4 4│1 1│2 2│\n",
       "└─────────┴───┴─┴───────┴───┴───┘\n",
       "</span>"
      ]
     },
     "execution_count": 33,
     "metadata": {},
     "output_type": "execute_result"
    }
   ],
   "source": [
    "⎕IO←0 ⍝ zero-based indexing\n",
    "partition←{⍵⊂⍨1,2≠/⍵}\n",
    "partition 1 1 1 1 1 2 2 1 4 4 4 4 1 1 2 2"
   ]
  },
  {
   "cell_type": "markdown",
   "metadata": {},
   "source": [
    "If we need the run lengths, we can just count them up:"
   ]
  },
  {
   "cell_type": "code",
   "execution_count": 34,
   "metadata": {},
   "outputs": [
    {
     "data": {
      "text/html": [
       "<span style=\"white-space:pre; font-family: monospace\">5 2 1 4 2 2\n",
       "</span>"
      ]
     },
     "execution_count": 34,
     "metadata": {},
     "output_type": "execute_result"
    }
   ],
   "source": [
    "≢¨partition 1 1 1 1 1 2 2 1 4 4 4 4 1 1 2 2"
   ]
  },
  {
   "cell_type": "markdown",
   "metadata": {},
   "source": [
    "An alternative formulation, perhaps more performant is"
   ]
  },
  {
   "cell_type": "code",
   "execution_count": 30,
   "metadata": {},
   "outputs": [
    {
     "data": {
      "text/html": [
       "<span style=\"white-space:pre; font-family: monospace\">5 2 1 4 2 2\n",
       "</span>"
      ]
     },
     "execution_count": 30,
     "metadata": {},
     "output_type": "execute_result"
    }
   ],
   "source": [
    "{¯2-/¯1,⍸1,⍨2≠/⍵} 1 1 1 1 1 2 2 1 4 4 4 4 1 1 2 2"
   ]
  },
  {
   "cell_type": "markdown",
   "metadata": {},
   "source": [
    "### Error handling\n",
    "\n",
    "Using error guards"
   ]
  },
  {
   "cell_type": "code",
   "execution_count": 20,
   "metadata": {},
   "outputs": [
    {
     "data": {
      "text/html": [
       "<span style=\"white-space:pre; font-family: monospace\">5\n",
       "</span>"
      ]
     },
     "execution_count": 20,
     "metadata": {},
     "output_type": "execute_result"
    }
   ],
   "source": [
    "4 {3::'out of bounds' ⋄ ⍺ ⌷ ⍵} 1 2 3 4 5 6 7"
   ]
  },
  {
   "cell_type": "code",
   "execution_count": 21,
   "metadata": {},
   "outputs": [
    {
     "data": {
      "text/html": [
       "<span style=\"white-space:pre; font-family: monospace\">out of bounds\n",
       "</span>"
      ]
     },
     "execution_count": 21,
     "metadata": {},
     "output_type": "execute_result"
    }
   ],
   "source": [
    "7 {3::'out of bounds' ⋄ ⍺ ⌷ ⍵} 1 2 3 4 5 6 7"
   ]
  },
  {
   "cell_type": "markdown",
   "metadata": {},
   "source": [
    "### Sets\n",
    "\n",
    "Set XOR - union minus intersection, using a train"
   ]
  },
  {
   "cell_type": "code",
   "execution_count": 18,
   "metadata": {},
   "outputs": [
    {
     "data": {
      "text/html": [
       "<span style=\"white-space:pre; font-family: monospace\">┌─────────┐\n",
       "│1 2 3 7 8│\n",
       "└─────────┘\n",
       "</span>"
      ]
     },
     "execution_count": 18,
     "metadata": {},
     "output_type": "execute_result"
    }
   ],
   "source": [
    "(∪~∩)/ (1 2 3 4 5 6) (4 5 6 7 8) ⍝ Elements in ⍺ or ⍵ but not in both"
   ]
  },
  {
   "cell_type": "markdown",
   "metadata": {},
   "source": [
    "### Encode and decode ⊤ ⊥\n",
    "\n",
    "Encode and decode converts between decimal and some encoding vector.\n",
    "\n",
    "Split a number into digits and pad with zeros from the left:"
   ]
  },
  {
   "cell_type": "code",
   "execution_count": 25,
   "metadata": {},
   "outputs": [
    {
     "data": {
      "text/html": [
       "<span style=\"white-space:pre; font-family: monospace\">0 0 0 1 2\n",
       "</span>"
      ]
     },
     "execution_count": 25,
     "metadata": {},
     "output_type": "execute_result"
    }
   ],
   "source": [
    "10 10 10 10 10 ⊤ 12"
   ]
  },
  {
   "cell_type": "markdown",
   "metadata": {},
   "source": [
    "Convert from seconds to H M S:"
   ]
  },
  {
   "cell_type": "code",
   "execution_count": 34,
   "metadata": {},
   "outputs": [
    {
     "data": {
      "text/html": [
       "<span style=\"white-space:pre; font-family: monospace\">0 2 21 13\n",
       "</span>"
      ]
     },
     "execution_count": 34,
     "metadata": {},
     "output_type": "execute_result"
    }
   ],
   "source": [
    "0 24 60 60 ⊤ 8473"
   ]
  },
  {
   "cell_type": "markdown",
   "metadata": {},
   "source": [
    "Decode goes the other way"
   ]
  },
  {
   "cell_type": "code",
   "execution_count": 36,
   "metadata": {},
   "outputs": [
    {
     "data": {
      "text/html": [
       "<span style=\"white-space:pre; font-family: monospace\">8473\n",
       "</span>"
      ]
     },
     "execution_count": 36,
     "metadata": {},
     "output_type": "execute_result"
    }
   ],
   "source": [
    "0 24 60 60 ⊥ 0 2 21 13 "
   ]
  },
  {
   "cell_type": "markdown",
   "metadata": {},
   "source": [
    "Sometimes swapped to save some brackets"
   ]
  },
  {
   "cell_type": "code",
   "execution_count": 30,
   "metadata": {},
   "outputs": [
    {
     "data": {
      "text/html": [
       "<span style=\"white-space:pre; font-family: monospace\">0 0 0 1 2\n",
       "</span>"
      ]
     },
     "execution_count": 30,
     "metadata": {},
     "output_type": "execute_result"
    }
   ],
   "source": [
    "12 ⊤⍨ 5⍴10 ⍝ instead of (5⍴10) ⊤ 12"
   ]
  },
  {
   "cell_type": "markdown",
   "metadata": {},
   "source": [
    "## Trains\n",
    "\n",
    "Trains are APL's functional composition mechanism."
   ]
  },
  {
   "cell_type": "code",
   "execution_count": 2,
   "metadata": {},
   "outputs": [
    {
     "data": {
      "text/html": [
       "<span style=\"white-space:pre; font-family: monospace\">7 10\n",
       "</span>"
      ]
     },
     "execution_count": 2,
     "metadata": {},
     "output_type": "execute_result"
    }
   ],
   "source": [
    "⍝ Construct a vector of the sum and product of two numbers\n",
    "2 (+,×) 5"
   ]
  },
  {
   "cell_type": "markdown",
   "metadata": {},
   "source": [
    "This is a three-function train, consisting of sum, catenate, product. For a three-function train (LMR) in the dyadic case, the execution flow is (⍺ L ⍵) M (⍺ R ⍵) or specifically (2+5),(2×5).\n",
    "\n",
    "Here's another example: split a string on a separator:"
   ]
  },
  {
   "cell_type": "code",
   "execution_count": 20,
   "metadata": {},
   "outputs": [
    {
     "data": {
      "text/html": [
       "<span style=\"white-space:pre; font-family: monospace\">┌───┬───┬─────┐\n",
       "│one│two│three│\n",
       "└───┴───┴─────┘\n",
       "</span>"
      ]
     },
     "execution_count": 20,
     "metadata": {},
     "output_type": "execute_result"
    }
   ],
   "source": [
    "',' (≠⊆⊢) 'one,two,three'"
   ]
  },
  {
   "cell_type": "markdown",
   "metadata": {},
   "source": [
    "Given the execution flow above we have:"
   ]
  },
  {
   "cell_type": "code",
   "execution_count": 8,
   "metadata": {},
   "outputs": [
    {
     "data": {
      "text/html": [
       "<span style=\"white-space:pre; font-family: monospace\">┌───┬───┬─────┐\n",
       "│one│two│three│\n",
       "└───┴───┴─────┘\n",
       "</span>"
      ]
     },
     "execution_count": 8,
     "metadata": {},
     "output_type": "execute_result"
    }
   ],
   "source": [
    "Lhs ← ','≠'one,two,three'  ⍝ Binary match vector\n",
    "Rhs ← ','⊢'one,two,three'  ⍝ Just return the right-hand argument\n",
    "Lhs ⊆ Rhs                  ⍝ Partition based on binary match vector"
   ]
  },
  {
   "cell_type": "markdown",
   "metadata": {},
   "source": [
    "The right-tack ⊢ is used in trains as an identity function to force the correct monadic/dyadic behaviour.\n",
    "\n",
    "Another canonical example is calculating the mean with a three-function monadic train:"
   ]
  },
  {
   "cell_type": "code",
   "execution_count": 9,
   "metadata": {},
   "outputs": [
    {
     "data": {
      "text/html": [
       "<span style=\"white-space:pre; font-family: monospace\">5.5\n",
       "</span>"
      ]
     },
     "execution_count": 9,
     "metadata": {},
     "output_type": "execute_result"
    }
   ],
   "source": [
    "(+/÷≢) 3 6 4 9"
   ]
  },
  {
   "cell_type": "markdown",
   "metadata": {},
   "source": [
    "This translates to:"
   ]
  },
  {
   "cell_type": "code",
   "execution_count": 10,
   "metadata": {},
   "outputs": [
    {
     "data": {
      "text/html": [
       "<span style=\"white-space:pre; font-family: monospace\">5.5\n",
       "</span>"
      ]
     },
     "execution_count": 10,
     "metadata": {},
     "output_type": "execute_result"
    }
   ],
   "source": [
    "Lhs ← +/ 3 6 4 9   ⍝ Sum \n",
    "Rhs ← ≢ 3 6 4 9    ⍝ Count\n",
    "Lhs ÷ Rhs          ⍝ Mean"
   ]
  },
  {
   "cell_type": "markdown",
   "metadata": {},
   "source": [
    "Set XOR using a union-not-intersect train"
   ]
  },
  {
   "cell_type": "code",
   "execution_count": 19,
   "metadata": {},
   "outputs": [
    {
     "data": {
      "text/html": [
       "<span style=\"white-space:pre; font-family: monospace\">┌─────────┐\n",
       "│1 2 3 7 8│\n",
       "└─────────┘\n",
       "</span>"
      ]
     },
     "execution_count": 19,
     "metadata": {},
     "output_type": "execute_result"
    }
   ],
   "source": [
    "(∪~∩)/ (1 2 3 4 5 6) (4 5 6 7 8)"
   ]
  },
  {
   "cell_type": "markdown",
   "metadata": {},
   "source": [
    "Here's a longer example: generate an integer range"
   ]
  },
  {
   "cell_type": "code",
   "execution_count": 100,
   "metadata": {},
   "outputs": [
    {
     "data": {
      "text/html": [
       "<span style=\"white-space:pre; font-family: monospace\">5 6 7 8 9\n",
       "</span>"
      ]
     },
     "execution_count": 100,
     "metadata": {},
     "output_type": "execute_result"
    }
   ],
   "source": [
    "5 (⊣+∘⍳-⍨) 10"
   ]
  },
  {
   "cell_type": "markdown",
   "metadata": {},
   "source": [
    "## Tack tricks\n",
    "\n",
    "Left (⊣) and right (⊢) tacks return the argument they point to."
   ]
  },
  {
   "cell_type": "code",
   "execution_count": 12,
   "metadata": {},
   "outputs": [
    {
     "data": {
      "text/html": [
       "<span style=\"white-space:pre; font-family: monospace\">Left\n",
       "Right\n",
       "</span>"
      ]
     },
     "execution_count": 12,
     "metadata": {},
     "output_type": "execute_result"
    }
   ],
   "source": [
    "'Left'⊣'Right' ⋄ 'Left'⊢'Right'"
   ]
  },
  {
   "cell_type": "markdown",
   "metadata": {},
   "source": [
    "We saw earlier their place in trains to force dyadic application. Another use is when we want to return a value after first mutating it."
   ]
  },
  {
   "cell_type": "code",
   "execution_count": 14,
   "metadata": {},
   "outputs": [
    {
     "data": {
      "text/html": [
       "<span style=\"white-space:pre; font-family: monospace\">10 10 3 4 5\n",
       "</span>"
      ]
     },
     "execution_count": 14,
     "metadata": {},
     "output_type": "execute_result"
    }
   ],
   "source": [
    "mem ← 1 2 3 4 5\n",
    "mem ⊣ mem[1 2] ← 10 10"
   ]
  },
  {
   "cell_type": "markdown",
   "metadata": {},
   "source": [
    "## Indexing\n",
    "\n",
    "There are several ways of indexing into arrays and vectors. Crucially, elements of vectors and matrices are always scalars, but a scalar can be a boxed-up vector or matrix.\n",
    "\n",
    "Indexing with [] or ⌷ returns the box, not the element, although if the element is a simple scalar, it's the same thing."
   ]
  },
  {
   "cell_type": "code",
   "execution_count": 109,
   "metadata": {},
   "outputs": [
    {
     "data": {
      "text/html": [
       "<span style=\"white-space:pre; font-family: monospace\"> \n",
       "5\n",
       " \n",
       "</span>"
      ]
     },
     "execution_count": 109,
     "metadata": {},
     "output_type": "execute_result"
    },
    {
     "data": {
      "text/html": [
       "<span style=\"white-space:pre; font-family: monospace\">┌→──┐\n",
       "│5 2│\n",
       "└~──┘\n",
       "</span>"
      ]
     },
     "execution_count": 109,
     "metadata": {},
     "output_type": "execute_result"
    },
    {
     "data": {
      "text/html": [
       "<span style=\"white-space:pre; font-family: monospace\"> \n",
       "3\n",
       " \n",
       "</span>"
      ]
     },
     "execution_count": 109,
     "metadata": {},
     "output_type": "execute_result"
    }
   ],
   "source": [
    "⎕IO←0 ⍝ zero-based indexing\n",
    "v←⍳10\n",
    "v[5]\n",
    "v[5 2]\n",
    "3⌷v"
   ]
  },
  {
   "cell_type": "code",
   "execution_count": 111,
   "metadata": {},
   "outputs": [
    {
     "data": {
      "text/html": [
       "<span style=\"white-space:pre; font-family: monospace\">┌─────────┐\n",
       "│ ┌→────┐ │\n",
       "│ │1 2 3│ │\n",
       "│ └~────┘ │\n",
       "└∊────────┘\n",
       "</span>"
      ]
     },
     "execution_count": 111,
     "metadata": {},
     "output_type": "execute_result"
    }
   ],
   "source": [
    "v←(1 2 3)(4 5 6)(7 8 9)\n",
    "v[0]  ⍝ Return the box at element 0"
   ]
  },
  {
   "cell_type": "markdown",
   "metadata": {},
   "source": [
    "To get to the boxed element, we need to either disclose, or pick:"
   ]
  },
  {
   "cell_type": "code",
   "execution_count": 113,
   "metadata": {},
   "outputs": [
    {
     "data": {
      "text/html": [
       "<span style=\"white-space:pre; font-family: monospace\">┌→────┐\n",
       "│1 2 3│\n",
       "└~────┘\n",
       "</span>"
      ]
     },
     "execution_count": 113,
     "metadata": {},
     "output_type": "execute_result"
    },
    {
     "data": {
      "text/html": [
       "<span style=\"white-space:pre; font-family: monospace\">┌→────┐\n",
       "│1 2 3│\n",
       "└~────┘\n",
       "</span>"
      ]
     },
     "execution_count": 113,
     "metadata": {},
     "output_type": "execute_result"
    }
   ],
   "source": [
    "⊃v[0]  ⍝ Open box (disclose)\n",
    "0⊃v    ⍝ Pick element at 0"
   ]
  },
  {
   "cell_type": "markdown",
   "metadata": {},
   "source": [
    "The same box-unbox rules also apply to mutation:"
   ]
  },
  {
   "cell_type": "code",
   "execution_count": 118,
   "metadata": {},
   "outputs": [
    {
     "name": "stderr",
     "output_type": "stream",
     "text": [
      "LENGTH ERROR\n",
      "      v[1]←1 2 3 ⍝ Will fail with LENGTH ERROR, as value isn't boxed.\n",
      "          ∧\n"
     ]
    }
   ],
   "source": [
    "v[1]←1 2 3 ⍝ Will fail with LENGTH ERROR, as value isn't boxed."
   ]
  },
  {
   "cell_type": "markdown",
   "metadata": {},
   "source": [
    "Instead we need to explicitly enclose the new vector:"
   ]
  },
  {
   "cell_type": "code",
   "execution_count": 117,
   "metadata": {},
   "outputs": [
    {
     "data": {
      "text/html": [
       "<span style=\"white-space:pre; font-family: monospace\">┌→────────────────────────┐\n",
       "│ ┌→────┐ ┌→────┐ ┌→────┐ │\n",
       "│ │1 2 3│ │1 2 3│ │7 8 9│ │\n",
       "│ └~────┘ └~────┘ └~────┘ │\n",
       "└∊────────────────────────┘\n",
       "</span>"
      ]
     },
     "execution_count": 117,
     "metadata": {},
     "output_type": "execute_result"
    }
   ],
   "source": [
    "v[1]←⊂1 2 3\n",
    "v"
   ]
  },
  {
   "cell_type": "markdown",
   "metadata": {},
   "source": [
    "Set multiple values with @ without mutation"
   ]
  },
  {
   "cell_type": "code",
   "execution_count": 46,
   "metadata": {},
   "outputs": [
    {
     "data": {
      "text/html": [
       "<span style=\"white-space:pre; font-family: monospace\">0 1 2 3 9 9 6 7 8 9\n",
       "</span>"
      ]
     },
     "execution_count": 46,
     "metadata": {},
     "output_type": "execute_result"
    },
    {
     "data": {
      "text/html": [
       "<span style=\"white-space:pre; font-family: monospace\">0 1 2 3 8 8 6 7 8 9\n",
       "</span>"
      ]
     },
     "execution_count": 46,
     "metadata": {},
     "output_type": "execute_result"
    }
   ],
   "source": [
    "9 9 @ 4 5 ⊢ v             ⍝ Note -- no mutation\n",
    "v "
   ]
  },
  {
   "cell_type": "code",
   "execution_count": 40,
   "metadata": {},
   "outputs": [
    {
     "data": {
      "text/html": [
       "<span style=\"white-space:pre; font-family: monospace\">0 1 2 3 8 8 6 7 8 9\n",
       "</span>"
      ]
     },
     "execution_count": 40,
     "metadata": {},
     "output_type": "execute_result"
    }
   ],
   "source": [
    "v ⊣ v[4 5] ← 8 8          ⍝ Note -- direct assignment mutates v"
   ]
  },
  {
   "cell_type": "markdown",
   "metadata": {},
   "source": [
    "The @ operator can also apply functions (via @Adám on APLOrchard):"
   ]
  },
  {
   "cell_type": "code",
   "execution_count": 4,
   "metadata": {},
   "outputs": [
    {
     "data": {
      "text/html": [
       "<span style=\"white-space:pre; font-family: monospace\">10 ¯20 30 40 ¯50 60\n",
       "</span>"
      ]
     },
     "execution_count": 4,
     "metadata": {},
     "output_type": "execute_result"
    }
   ],
   "source": [
    "(-@2 5)10 20 30 40 50 60  ⍝ Apply monadic - at positions 2 and 5"
   ]
  },
  {
   "cell_type": "markdown",
   "metadata": {},
   "source": [
    "which also works for dyads:"
   ]
  },
  {
   "cell_type": "code",
   "execution_count": 5,
   "metadata": {},
   "outputs": [
    {
     "data": {
      "text/html": [
       "<span style=\"white-space:pre; font-family: monospace\">10 27 30 40 57 60\n",
       "</span>"
      ]
     },
     "execution_count": 5,
     "metadata": {},
     "output_type": "execute_result"
    }
   ],
   "source": [
    "7(+@2 5)10 20 30 40 50 60 "
   ]
  },
  {
   "cell_type": "code",
   "execution_count": 10,
   "metadata": {},
   "outputs": [
    {
     "data": {
      "text/html": [
       "<span style=\"white-space:pre; font-family: monospace\">xello xorld\n",
       "</span>"
      ]
     },
     "execution_count": 10,
     "metadata": {},
     "output_type": "execute_result"
    }
   ],
   "source": [
    "'x'@(∊∘⎕A)'Hello World' ⍝ Replace all uppercase letters with 'x'. ⎕A gives the uppercase letters."
   ]
  },
  {
   "cell_type": "markdown",
   "metadata": {},
   "source": [
    "## Products\n",
    "\n",
    "Cartesian product"
   ]
  },
  {
   "cell_type": "code",
   "execution_count": 17,
   "metadata": {},
   "outputs": [
    {
     "data": {
      "text/html": [
       "<span style=\"white-space:pre; font-family: monospace\">┌───┬───┬───┬───┬───┬───┬───┬───┬───┐\n",
       "│0 0│0 1│0 2│1 0│1 1│1 2│2 0│2 1│2 2│\n",
       "└───┴───┴───┴───┴───┴───┴───┴───┴───┘\n",
       "</span>"
      ]
     },
     "execution_count": 17,
     "metadata": {},
     "output_type": "execute_result"
    }
   ],
   "source": [
    "⎕IO←0\n",
    "pairs ← {,(⍳⍵)∘.,⍳⍵}  ⍝ Python [[x, y] for x in range(3) for y in range(3)]\n",
    "pairs 3"
   ]
  },
  {
   "cell_type": "markdown",
   "metadata": {},
   "source": [
    "or an alternative formulation, using iota. Think of the arguments to iota as defining the shape of the result:"
   ]
  },
  {
   "cell_type": "code",
   "execution_count": 18,
   "metadata": {},
   "outputs": [
    {
     "data": {
      "text/html": [
       "<span style=\"white-space:pre; font-family: monospace\">┌───┬───┬───┬───┬───┬───┬───┬───┬───┐\n",
       "│0 0│0 1│0 2│1 0│1 1│1 2│2 0│2 1│2 2│\n",
       "└───┴───┴───┴───┴───┴───┴───┴───┴───┘\n",
       "</span>"
      ]
     },
     "execution_count": 18,
     "metadata": {},
     "output_type": "execute_result"
    }
   ],
   "source": [
    "pairs ← {,⍳⍵ ⍵}\n",
    "pairs 3"
   ]
  },
  {
   "cell_type": "markdown",
   "metadata": {},
   "source": [
    "## Composition (Currying)\n",
    "\n",
    "We can curry a dyadic function down to a monadic function by fixing either left or right argument:"
   ]
  },
  {
   "cell_type": "code",
   "execution_count": 55,
   "metadata": {},
   "outputs": [],
   "source": [
    "sum←{⍺+⍵}\n",
    "add5←5∘sum"
   ]
  },
  {
   "cell_type": "code",
   "execution_count": 57,
   "metadata": {},
   "outputs": [
    {
     "data": {
      "text/html": [
       "<span style=\"white-space:pre; font-family: monospace\">12\n",
       "</span>"
      ]
     },
     "execution_count": 57,
     "metadata": {},
     "output_type": "execute_result"
    }
   ],
   "source": [
    "add5 7"
   ]
  },
  {
   "cell_type": "code",
   "execution_count": 58,
   "metadata": {},
   "outputs": [
    {
     "data": {
      "text/html": [
       "<span style=\"white-space:pre; font-family: monospace\">6 7 8 9 10 11 12\n",
       "</span>"
      ]
     },
     "execution_count": 58,
     "metadata": {},
     "output_type": "execute_result"
    }
   ],
   "source": [
    "add5 1 2 3 4 5 6 7"
   ]
  },
  {
   "cell_type": "markdown",
   "metadata": {},
   "source": [
    "## Shape and Rank\n",
    "\n",
    "Pair consecutive elements in a vector"
   ]
  },
  {
   "cell_type": "code",
   "execution_count": 80,
   "metadata": {},
   "outputs": [
    {
     "data": {
      "text/html": [
       "<span style=\"white-space:pre; font-family: monospace\">┌───┬───┬───┬───┬───┐\n",
       "│0 1│2 3│4 5│6 7│8 9│\n",
       "└───┴───┴───┴───┴───┘\n",
       "</span>"
      ]
     },
     "execution_count": 80,
     "metadata": {},
     "output_type": "execute_result"
    }
   ],
   "source": [
    "{⊂⍵}⌺(⍪2 2) ⊢ ⍳10"
   ]
  },
  {
   "cell_type": "code",
   "execution_count": 76,
   "metadata": {},
   "outputs": [
    {
     "data": {
      "text/html": [
       "<span style=\"white-space:pre; font-family: monospace\">┌───┬───┬───┬───┬───┐\n",
       "│0 1│2 3│4 5│6 7│8 9│\n",
       "└───┴───┴───┴───┴───┘\n",
       "</span>"
      ]
     },
     "execution_count": 76,
     "metadata": {},
     "output_type": "execute_result"
    }
   ],
   "source": [
    ",⌿⍉5 2 ⍴ ⍳10"
   ]
  },
  {
   "cell_type": "code",
   "execution_count": 77,
   "metadata": {},
   "outputs": [
    {
     "data": {
      "text/html": [
       "<span style=\"white-space:pre; font-family: monospace\">┌───┬───┬───┬───┬───┐\n",
       "│0 1│2 3│4 5│6 7│8 9│\n",
       "└───┴───┴───┴───┴───┘\n",
       "</span>"
      ]
     },
     "execution_count": 77,
     "metadata": {},
     "output_type": "execute_result"
    }
   ],
   "source": [
    "↓5 2 ⍴ ⍳10"
   ]
  },
  {
   "cell_type": "markdown",
   "metadata": {},
   "source": [
    "## Folds\n",
    "\n",
    "The reduce operator / folds R-L. It's possible to define a fold operator that works L-R:"
   ]
  },
  {
   "cell_type": "code",
   "execution_count": 90,
   "metadata": {},
   "outputs": [],
   "source": [
    "foldl←{↑⍺⍺⍨/(⌽⍵),⊂⍺}"
   ]
  },
  {
   "cell_type": "code",
   "execution_count": 92,
   "metadata": {},
   "outputs": [
    {
     "data": {
      "text/html": [
       "<span style=\"white-space:pre; font-family: monospace\">15\n",
       "</span>"
      ]
     },
     "execution_count": 92,
     "metadata": {},
     "output_type": "execute_result"
    }
   ],
   "source": [
    "0 + foldl 1 2 3 4 5 ⍝ Must give initial accumulator state"
   ]
  },
  {
   "cell_type": "markdown",
   "metadata": {},
   "source": [
    "Note that this operator (and many others) exists in the standard Dyalog workspace [dfns](https://dfns.dyalog.com/s_foldl.htm), which can be imported as ⎕CY 'dfns'"
   ]
  },
  {
   "cell_type": "markdown",
   "metadata": {},
   "source": [
    "## On ranges\n",
    "\n",
    "In Python you can specify a range as `range(start, end)` which gives an iterator from start to end-1. In Dyalog we don't have a direct equivalent, but one can be made from the iota operator."
   ]
  },
  {
   "cell_type": "code",
   "execution_count": 93,
   "metadata": {},
   "outputs": [
    {
     "data": {
      "text/html": [
       "<span style=\"white-space:pre; font-family: monospace\">5 6 7 8 9\n",
       "</span>"
      ]
     },
     "execution_count": 93,
     "metadata": {},
     "output_type": "execute_result"
    }
   ],
   "source": [
    "5 {⍺↓⍳⍵} 10   ⍝ Very wasteful!"
   ]
  },
  {
   "cell_type": "code",
   "execution_count": 94,
   "metadata": {},
   "outputs": [
    {
     "data": {
      "text/html": [
       "<span style=\"white-space:pre; font-family: monospace\">5 6 7 8 9\n",
       "</span>"
      ]
     },
     "execution_count": 94,
     "metadata": {},
     "output_type": "execute_result"
    }
   ],
   "source": [
    "5 {⍺+⍳⍵-⍺} 10 ⍝ Better"
   ]
  },
  {
   "cell_type": "code",
   "execution_count": 98,
   "metadata": {},
   "outputs": [
    {
     "data": {
      "text/html": [
       "<span style=\"white-space:pre; font-family: monospace\">5 6 7 8 9\n",
       "</span>"
      ]
     },
     "execution_count": 98,
     "metadata": {},
     "output_type": "execute_result"
    }
   ],
   "source": [
    "5 (⊣+∘⍳-⍨) 10 ⍝ As a train"
   ]
  },
  {
   "cell_type": "markdown",
   "metadata": {},
   "source": [
    "## Stencils\n",
    "\n",
    "Pick out 3x3 regions of a larger matrix. The stencil takes a function to the left and a shape to the right and returns a monad.\n",
    "\n",
    "This from https://chat.stackexchange.com/rooms/52405/conversation/lesson-5-even-more-apl-operators--"
   ]
  },
  {
   "cell_type": "code",
   "execution_count": 21,
   "metadata": {},
   "outputs": [
    {
     "data": {
      "text/html": [
       "<span style=\"white-space:pre; font-family: monospace\">ABCDEF\n",
       "GHIJKL\n",
       "MNOPQR\n",
       "STUVWX\n",
       "</span>"
      ]
     },
     "execution_count": 21,
     "metadata": {},
     "output_type": "execute_result"
    },
    {
     "data": {
      "text/html": [
       "<span style=\"white-space:pre; font-family: monospace\">┌───┬───┬───┬───┬───┬───┐\n",
       "│   │   │   │   │   │   │\n",
       "│ AB│ABC│BCD│CDE│DEF│EF │\n",
       "│ GH│GHI│HIJ│IJK│JKL│KL │\n",
       "├───┼───┼───┼───┼───┼───┤\n",
       "│ AB│ABC│BCD│CDE│DEF│EF │\n",
       "│ GH│GHI│HIJ│IJK│JKL│KL │\n",
       "│ MN│MNO│NOP│OPQ│PQR│QR │\n",
       "├───┼───┼───┼───┼───┼───┤\n",
       "│ GH│GHI│HIJ│IJK│JKL│KL │\n",
       "│ MN│MNO│NOP│OPQ│PQR│QR │\n",
       "│ ST│STU│TUV│UVW│VWX│WX │\n",
       "├───┼───┼───┼───┼───┼───┤\n",
       "│ MN│MNO│NOP│OPQ│PQR│QR │\n",
       "│ ST│STU│TUV│UVW│VWX│WX │\n",
       "│   │   │   │   │   │   │\n",
       "└───┴───┴───┴───┴───┴───┘\n",
       "</span>"
      ]
     },
     "execution_count": 21,
     "metadata": {},
     "output_type": "execute_result"
    }
   ],
   "source": [
    "⎕←letters ← 4 6⍴⎕A\n",
    "{⊂⍵}⌺3 3 ⊢ letters     ⍝ Enclose the selected window"
   ]
  },
  {
   "cell_type": "markdown",
   "metadata": {},
   "source": [
    "The padding is defined by ⍺ in the operand function:"
   ]
  },
  {
   "cell_type": "code",
   "execution_count": 22,
   "metadata": {},
   "outputs": [
    {
     "data": {
      "text/html": [
       "<span style=\"white-space:pre; font-family: monospace\">┌────┬────┬────┬────┬────┬─────┐\n",
       "│1 1 │1 0 │1 0 │1 0 │1 0 │1 ¯1 │\n",
       "├────┼────┼────┼────┼────┼─────┤\n",
       "│0 1 │0 0 │0 0 │0 0 │0 0 │0 ¯1 │\n",
       "├────┼────┼────┼────┼────┼─────┤\n",
       "│0 1 │0 0 │0 0 │0 0 │0 0 │0 ¯1 │\n",
       "├────┼────┼────┼────┼────┼─────┤\n",
       "│¯1 1│¯1 0│¯1 0│¯1 0│¯1 0│¯1 ¯1│\n",
       "└────┴────┴────┴────┴────┴─────┘\n",
       "</span>"
      ]
     },
     "execution_count": 22,
     "metadata": {},
     "output_type": "execute_result"
    }
   ],
   "source": [
    "({⊂⍺}⌺3 3) ⊢ letters"
   ]
  },
  {
   "cell_type": "code",
   "execution_count": 23,
   "metadata": {},
   "outputs": [
    {
     "data": {
      "text/html": [
       "<span style=\"white-space:pre; font-family: monospace\">┌──┬───┬───┬───┬───┬──┐\n",
       "│AB│ABC│BCD│CDE│DEF│EF│\n",
       "│GH│GHI│HIJ│IJK│JKL│KL│\n",
       "├──┼───┼───┼───┼───┼──┤\n",
       "│AB│ABC│BCD│CDE│DEF│EF│\n",
       "│GH│GHI│HIJ│IJK│JKL│KL│\n",
       "│MN│MNO│NOP│OPQ│PQR│QR│\n",
       "├──┼───┼───┼───┼───┼──┤\n",
       "│GH│GHI│HIJ│IJK│JKL│KL│\n",
       "│MN│MNO│NOP│OPQ│PQR│QR│\n",
       "│ST│STU│TUV│UVW│VWX│WX│\n",
       "├──┼───┼───┼───┼───┼──┤\n",
       "│MN│MNO│NOP│OPQ│PQR│QR│\n",
       "│ST│STU│TUV│UVW│VWX│WX│\n",
       "└──┴───┴───┴───┴───┴──┘\n",
       "</span>"
      ]
     },
     "execution_count": 23,
     "metadata": {},
     "output_type": "execute_result"
    }
   ],
   "source": [
    "({⊂⍺↓⍵}⌺3 3) ⊢ letters"
   ]
  },
  {
   "cell_type": "markdown",
   "metadata": {},
   "source": [
    "## Key"
   ]
  },
  {
   "cell_type": "code",
   "execution_count": 24,
   "metadata": {},
   "outputs": [
    {
     "data": {
      "text/html": [
       "<span style=\"white-space:pre; font-family: monospace\">M 1\n",
       "i 4\n",
       "s 4\n",
       "p 2\n",
       "</span>"
      ]
     },
     "execution_count": 24,
     "metadata": {},
     "output_type": "execute_result"
    }
   ],
   "source": [
    "{⍺,≢⍵}⌸'Mississippi' "
   ]
  },
  {
   "cell_type": "markdown",
   "metadata": {},
   "source": [
    "## Sliding Tiles example"
   ]
  },
  {
   "cell_type": "code",
   "execution_count": 39,
   "metadata": {},
   "outputs": [
    {
     "data": {
      "text/html": [
       "<span style=\"white-space:pre; font-family: monospace\">┌→────────────────┐\n",
       "│Was ON -style=max│\n",
       "└─────────────────┘\n",
       "</span>"
      ]
     },
     "execution_count": 39,
     "metadata": {},
     "output_type": "execute_result"
    }
   ],
   "source": [
    "⎕IO←0 ⍝ zero-based indexing\n",
    "]box on -style=max ⍝ Pass all output through DISPLAY"
   ]
  },
  {
   "cell_type": "code",
   "execution_count": 40,
   "metadata": {},
   "outputs": [],
   "source": [
    "]dinput\n",
    "moves←{\n",
    "     d←(0 1)(1 0)(0 ¯1)(¯1 0)      ⍝ Move offsets\n",
    "     m←⍵\n",
    "     {⌽@i ⍵⊢m}¨(,⍳⍴m)∩d+⊂i←⊃⍸0=m\n",
    " }"
   ]
  },
  {
   "cell_type": "code",
   "execution_count": 41,
   "metadata": {},
   "outputs": [
    {
     "data": {
      "text/html": [
       "<span style=\"white-space:pre; font-family: monospace\">┌→──────────────────────────────────────────┐\n",
       "│ ┌→──────────┐ ┌→──────────┐ ┌→──────────┐ │\n",
       "│ ↓ 0 10  3  2│ ↓15 10  3  2│ ↓15 10  3  2│ │\n",
       "│ │15  5 13  9│ │ 5  0 13  9│ │12  5 13  9│ │\n",
       "│ │12  4  8 14│ │12  4  8 14│ │ 0  4  8 14│ │\n",
       "│ │11  7  6  1│ │11  7  6  1│ │11  7  6  1│ │\n",
       "│ └~──────────┘ └~──────────┘ └~──────────┘ │\n",
       "└∊──────────────────────────────────────────┘\n",
       "</span>"
      ]
     },
     "execution_count": 41,
     "metadata": {},
     "output_type": "execute_result"
    }
   ],
   "source": [
    "state←4 4⍴?⍨16\n",
    "moves state"
   ]
  },
  {
   "cell_type": "markdown",
   "metadata": {},
   "source": [
    "A lot to decode here. The `i` expression gives the row-col of the 0 element:"
   ]
  },
  {
   "cell_type": "code",
   "execution_count": 42,
   "metadata": {},
   "outputs": [
    {
     "data": {
      "text/html": [
       "<span style=\"white-space:pre; font-family: monospace\">┌→──────────┐\n",
       "↓15 10  3  2│\n",
       "│ 0  5 13  9│\n",
       "│12  4  8 14│\n",
       "│11  7  6  1│\n",
       "└~──────────┘\n",
       "┌→──┐\n",
       "│1 0│\n",
       "└~──┘\n",
       "</span>"
      ]
     },
     "execution_count": 42,
     "metadata": {},
     "output_type": "execute_result"
    }
   ],
   "source": [
    "state ⋄ ⊃⍸0=state"
   ]
  },
  {
   "cell_type": "markdown",
   "metadata": {},
   "source": [
    "Adding the offsets gives all potential moves:"
   ]
  },
  {
   "cell_type": "code",
   "execution_count": 43,
   "metadata": {},
   "outputs": [
    {
     "data": {
      "text/html": [
       "<span style=\"white-space:pre; font-family: monospace\">┌→─────────────────────────┐\n",
       "│ ┌→──┐ ┌→──┐ ┌→───┐ ┌→──┐ │\n",
       "│ │1 1│ │2 0│ │1 ¯1│ │0 0│ │\n",
       "│ └~──┘ └~──┘ └~───┘ └~──┘ │\n",
       "└∊─────────────────────────┘\n",
       "</span>"
      ]
     },
     "execution_count": 43,
     "metadata": {},
     "output_type": "execute_result"
    }
   ],
   "source": [
    "d←(0 1)(1 0)(0 ¯1)(¯1 0)\n",
    "d+⊂i←⊃⍸0=state                ⍝ disclose-enclose as we want the enclosed version later"
   ]
  },
  {
   "cell_type": "markdown",
   "metadata": {},
   "source": [
    "Given the rank of m we can generate all valid coordinate pairs"
   ]
  },
  {
   "cell_type": "code",
   "execution_count": 44,
   "metadata": {},
   "outputs": [
    {
     "data": {
      "text/html": [
       "<span style=\"white-space:pre; font-family: monospace\">┌→─────────────────────────────────────────────────────────────────────────────\n",
       "│ ┌→──┐ ┌→──┐ ┌→──┐ ┌→──┐ ┌→──┐ ┌→──┐ ┌→──┐ ┌→──┐ ┌→──┐ ┌→──┐ ┌→──┐ ┌→──┐ ┌→──┐\n",
       "│ │0 0│ │0 1│ │0 2│ │0 3│ │1 0│ │1 1│ │1 2│ │1 3│ │2 0│ │2 1│ │2 2│ │2 3│ │3 0│\n",
       "│ └~──┘ └~──┘ └~──┘ └~──┘ └~──┘ └~──┘ └~──┘ └~──┘ └~──┘ └~──┘ └~──┘ └~──┘ └~──┘\n",
       "└∊─────────────────────────────────────────────────────────────────────────────\n",
       "\n",
       "      ───────────────────┐\n",
       "       ┌→──┐ ┌→──┐ ┌→──┐ │\n",
       "       │3 1│ │3 2│ │3 3│ │\n",
       "       └~──┘ └~──┘ └~──┘ │\n",
       "      ───────────────────┘\n",
       "</span>"
      ]
     },
     "execution_count": 44,
     "metadata": {},
     "output_type": "execute_result"
    }
   ],
   "source": [
    ",⍳⍴state"
   ]
  },
  {
   "cell_type": "markdown",
   "metadata": {},
   "source": [
    "and then discard the moves that falls out of range as an intersection:"
   ]
  },
  {
   "cell_type": "code",
   "execution_count": 45,
   "metadata": {},
   "outputs": [
    {
     "data": {
      "text/html": [
       "<span style=\"white-space:pre; font-family: monospace\">┌→──────────────────┐\n",
       "│ ┌→──┐ ┌→──┐ ┌→──┐ │\n",
       "│ │0 0│ │1 1│ │2 0│ │\n",
       "│ └~──┘ └~──┘ └~──┘ │\n",
       "└∊──────────────────┘\n",
       "</span>"
      ]
     },
     "execution_count": 45,
     "metadata": {},
     "output_type": "execute_result"
    }
   ],
   "source": [
    "(,⍳⍴state)∩d+⊂i←⊃⍸0=state"
   ]
  },
  {
   "cell_type": "markdown",
   "metadata": {},
   "source": [
    "We now map `{⌽@i ⍵⊢m}` over the list of valid moves. How does that work?"
   ]
  },
  {
   "cell_type": "code",
   "execution_count": 46,
   "metadata": {},
   "outputs": [
    {
     "data": {
      "text/html": [
       "<span style=\"white-space:pre; font-family: monospace\">┌→──────────────────────────────────────────┐\n",
       "│ ┌→──────────┐ ┌→──────────┐ ┌→──────────┐ │\n",
       "│ ↓ 0 10  3  2│ ↓15 10  3  2│ ↓15 10  3  2│ │\n",
       "│ │15  5 13  9│ │ 5  0 13  9│ │12  5 13  9│ │\n",
       "│ │12  4  8 14│ │12  4  8 14│ │ 0  4  8 14│ │\n",
       "│ │11  7  6  1│ │11  7  6  1│ │11  7  6  1│ │\n",
       "│ └~──────────┘ └~──────────┘ └~──────────┘ │\n",
       "└∊──────────────────────────────────────────┘\n",
       "</span>"
      ]
     },
     "execution_count": 46,
     "metadata": {},
     "output_type": "execute_result"
    }
   ],
   "source": [
    "{⌽@i ⍵⊢state}¨(,⍳⍴state)∩d+⊂i←⊃⍸0=state"
   ]
  },
  {
   "cell_type": "markdown",
   "metadata": {},
   "source": [
    "The dyadic `@` glyph in this case applies the reverse function `⌽` on the set of indexes given to its right argument. For example, if we want to switch the elements at (1 0) and (1 1) in m, we could say:"
   ]
  },
  {
   "cell_type": "code",
   "execution_count": 47,
   "metadata": {},
   "outputs": [
    {
     "data": {
      "text/html": [
       "<span style=\"white-space:pre; font-family: monospace\">┌→──────────┐\n",
       "↓15 10  3  2│\n",
       "│ 0  5 13  9│\n",
       "│12  4  8 14│\n",
       "│11  7  6  1│\n",
       "└~──────────┘\n",
       "┌→──────────┐\n",
       "↓15 10  3  2│\n",
       "│ 5  0 13  9│\n",
       "│12  4  8 14│\n",
       "│11  7  6  1│\n",
       "└~──────────┘\n",
       "</span>"
      ]
     },
     "execution_count": 47,
     "metadata": {},
     "output_type": "execute_result"
    }
   ],
   "source": [
    "state ⋄ (⌽@(1 0) (1 1)) state"
   ]
  },
  {
   "cell_type": "markdown",
   "metadata": {},
   "source": [
    "Using the right-tack `⊢` we can drop the brackets."
   ]
  },
  {
   "cell_type": "code",
   "execution_count": 48,
   "metadata": {},
   "outputs": [
    {
     "data": {
      "text/html": [
       "<span style=\"white-space:pre; font-family: monospace\">┌→──────────┐\n",
       "↓15 10  3  2│\n",
       "│ 5  0 13  9│\n",
       "│12  4  8 14│\n",
       "│11  7  6  1│\n",
       "└~──────────┘\n",
       "</span>"
      ]
     },
     "execution_count": 48,
     "metadata": {},
     "output_type": "execute_result"
    }
   ],
   "source": [
    "⌽@(1 0) (1 1) ⊢ state"
   ]
  },
  {
   "cell_type": "code",
   "execution_count": 49,
   "metadata": {},
   "outputs": [],
   "source": [
    "]dinput\n",
    "unwind←{\n",
    "     prev←⍺\n",
    "     ⌽⍬{\n",
    "         row←prev[;0]⍳⊂⍵\n",
    "         prev[row;0]≡prev[row;1]:⍺\n",
    "         (⍺,⊂⍵)∇⊃prev[row;1]\n",
    "     }⍵\n",
    " }"
   ]
  },
  {
   "cell_type": "code",
   "execution_count": 52,
   "metadata": {},
   "outputs": [],
   "source": [
    "]dinput\n",
    "solve←{                                ⍝ Breadth-first search.\n",
    "     goal←2 2⍴1+¯1,⍨⍳3\n",
    "     prev←⊃⍵ ⍬\n",
    "     ⍬{\n",
    "         ⍵≡⍬:⍬                          ⍝ Empty q, not found\n",
    "         head←⊃⍵ ⋄ tail←1↓⍵             ⍝ Text and remaining states in queue.\n",
    "         head≡goal:prev                 ⍝ Goal found\n",
    "         next←moves head\n",
    "         prev⍪←(next~⍺),[0.5]⊂head\n",
    "         (⍺,⊂head)∇(tail∪next)~⍺        ⍝ accumulate visited states\n",
    "     }⍵                                 ⍝ Start state\n",
    " }"
   ]
  },
  {
   "cell_type": "code",
   "execution_count": 38,
   "metadata": {},
   "outputs": [
    {
     "name": "stderr",
     "output_type": "stream",
     "text": [
      "LENGTH ERROR\n",
      "solve[7] (⍺,head)∇(tail∪next)~⍺  ⍝ accumulate visited vertices.\n",
      "           ∧\n"
     ]
    }
   ],
   "source": [
    "solve ⊂state"
   ]
  },
  {
   "cell_type": "code",
   "execution_count": 51,
   "metadata": {},
   "outputs": [
    {
     "data": {
      "text/html": [
       "<span style=\"white-space:pre; font-family: monospace\">┌→──────────────┐\n",
       "│ ┌→──────────┐ │\n",
       "│ ↓15 10  3  2│ │\n",
       "│ │ 0  5 13  9│ │\n",
       "│ │12  4  8 14│ │\n",
       "│ │11  7  6  1│ │\n",
       "│ └~──────────┘ │\n",
       "└∊──────────────┘\n",
       "</span>"
      ]
     },
     "execution_count": 51,
     "metadata": {},
     "output_type": "execute_result"
    }
   ],
   "source": [
    "1↑⊂state"
   ]
  },
  {
   "cell_type": "markdown",
   "metadata": {},
   "source": [
    "## A heap\n",
    "\n",
    "A binomial heap is a tree-like data structure maintaining a partial ordering such that a parent node has a value guaranteed to be smaller than either of its children, but no ordering between the children is specified. \n",
    "\n",
    "The classic heap structure lends itself naturally to imperative implementations, and is not a natural fit for APL. We'll do better later!\n",
    "\n",
    "To illustrate the point, here is a partial port of Python's heapq (https://github.com/python/cpython/blob/2.7/Lib/heapq.py)"
   ]
  },
  {
   "cell_type": "code",
   "execution_count": 86,
   "metadata": {},
   "outputs": [
    {
     "data": {
      "text/html": [
       "<span style=\"white-space:pre; font-family: monospace\">┌→────────────────┐\n",
       "│Was ON -style=max│\n",
       "└─────────────────┘\n",
       "</span>"
      ]
     },
     "execution_count": 86,
     "metadata": {},
     "output_type": "execute_result"
    }
   ],
   "source": [
    "⎕IO←0 ⍝ zero-based indexing\n",
    "]box on -style=max ⍝ Pass all output through DISPLAY"
   ]
  },
  {
   "cell_type": "code",
   "execution_count": 96,
   "metadata": {},
   "outputs": [],
   "source": [
    "]dinput\n",
    "Push←{ \n",
    "    ⍝ Insert item ⍵ into heap ⍺, returning the resulting tree\n",
    "    ⍝ Insert a new item by sticking it at the end and sifting the heap\n",
    "    ⍝ to maintain the heap invariant.\n",
    "    ⍺←⍬\n",
    "    Siftdown (⍺,⍵) 0 (≢⍺)\n",
    "}"
   ]
  },
  {
   "cell_type": "code",
   "execution_count": 97,
   "metadata": {},
   "outputs": [],
   "source": [
    "]dinput\n",
    "Pop←{ ⍝ Pop the smallest item off the heap, maintaining the heap invariant.\n",
    "    heap←⍵\n",
    "    last←⊃¯1↑heap ⋄ rest←¯1↓heap\n",
    "    0=≢rest:rest last\n",
    "    min←heap[0]\n",
    "    newHeap←(last@0)rest\n",
    "    (Siftup newHeap 0) min\n",
    "}"
   ]
  },
  {
   "cell_type": "code",
   "execution_count": 98,
   "metadata": {},
   "outputs": [],
   "source": [
    "]dinput\n",
    "Siftdown←{\n",
    "    ⍝ 'heap' is a heap at all indices >= startpos, except possibly for pos. Pos\n",
    "    ⍝ is the index of a leaf with a possibly out-of-order value.  Restore the\n",
    "    ⍝ heap invariant\n",
    "    (heap start pos)←⍵\n",
    "    item←pos⌷heap\n",
    "    ⍝ Follow the path to the root, moving parents down until finding a place\n",
    "    ⍝ newitem fits.\n",
    "    newpos←{\n",
    "        ⍵≤start:⍵\n",
    "        parentpos←⌊(⍵-1)÷2\n",
    "        parent←parentpos⌷heap\n",
    "        item<parent:∇ parentpos⊣heap[⍵]←parent\n",
    "        ⍵\n",
    "    } pos\n",
    "    (item@newpos)heap\n",
    "}"
   ]
  },
  {
   "cell_type": "code",
   "execution_count": 99,
   "metadata": {},
   "outputs": [],
   "source": [
    "]dinput\n",
    "Siftup←{\n",
    "    ⍝ Bubble the smaller child (and so on with that child's children, etc) \n",
    "    ⍝ until hitting a leaf, then using Siftdown to move the oddball originally \n",
    "    ⍝ at index current into place.\n",
    "    (heap current)←⍵\n",
    "    newItem←heap[current]\n",
    "    leafPos←{ ⍝ Bubble up the smaller child until hitting a leaf.\n",
    "        pos←⍵\n",
    "        left←1+2×pos    ⍝ left child position\n",
    "        left≥≢heap:pos\n",
    "        right←1+left    ⍝ right child position\n",
    "        child←((right<≢heap)∧~heap[left]<heap[right])⊃left right\n",
    "        heap[pos]←heap[child]\n",
    "        ∇ child\n",
    "    } current\n",
    "    ⍝ The leaf at leafPos is empty now.  Put newitem there, and bubble it up\n",
    "    ⍝ to its final resting place (by sifting its parents down).\n",
    "    heap[leafPos]←newItem\n",
    "    Siftdown heap current leafPos\n",
    "}"
   ]
  },
  {
   "cell_type": "code",
   "execution_count": 100,
   "metadata": {},
   "outputs": [
    {
     "data": {
      "text/html": [
       "<span style=\"white-space:pre; font-family: monospace\">┌→────────────────┐\n",
       "│ ┌→──────────┐   │\n",
       "│ │1 5 2 9 6 8│ 0 │\n",
       "│ └~──────────┘   │\n",
       "└∊────────────────┘\n",
       "</span>"
      ]
     },
     "execution_count": 100,
     "metadata": {},
     "output_type": "execute_result"
    }
   ],
   "source": [
    "heap←0 1 2 5 6 8 9\n",
    "Pop heap"
   ]
  },
  {
   "cell_type": "code",
   "execution_count": 102,
   "metadata": {},
   "outputs": [
    {
     "data": {
      "text/html": [
       "<span style=\"white-space:pre; font-family: monospace\">┌→──────────────┐\n",
       "│0 1 2 3 6 8 9 5│\n",
       "└~──────────────┘\n",
       "</span>"
      ]
     },
     "execution_count": 102,
     "metadata": {},
     "output_type": "execute_result"
    }
   ],
   "source": [
    "heap Push←3\n",
    "heap"
   ]
  },
  {
   "cell_type": "markdown",
   "metadata": {},
   "source": [
    "## A heap implemented as a Leftist Tree\n",
    "\n",
    "A heap can also be implemented as a Leftist Tree, which lends itself naturally to a recursive implementation.\n",
    "\n",
    "https://en.wikipedia.org/wiki/Leftist_tree\n",
    "http://typeocaml.com/2015/03/12/heap-leftist-tree/\n",
    "\n",
    "Here is a partial port of the OCaml version."
   ]
  },
  {
   "cell_type": "code",
   "execution_count": 104,
   "metadata": {},
   "outputs": [],
   "source": [
    "]dinput\n",
    "Pop←{ ⍝ Pop off smallest element from a leftist tree ⍵\n",
    "    0=≢⍵:⍬\n",
    "    (value left right)←1↓⍵\n",
    "    (left Merge right) value\n",
    "}"
   ]
  },
  {
   "cell_type": "code",
   "execution_count": 105,
   "metadata": {},
   "outputs": [],
   "source": [
    "]dinput\n",
    "Push←{ ⍝ Insert item ⍵ into leftist tree ⍺, returning the resulting tree\n",
    "    ⍺←⍬              ⍝ default to init\n",
    "    1 ⍵ ⍬ ⍬ Merge ⍺ \n",
    "}"
   ]
  },
  {
   "cell_type": "code",
   "execution_count": 119,
   "metadata": {},
   "outputs": [],
   "source": [
    "]dinput\n",
    "Merge←{ ⍝ Merge leftist trees ⍺ and ⍵\n",
    "    0=≢⍺:⍵ ⋄ 0=≢⍵:⍺                                 ⍝ If either is a leaf, return the other\n",
    "    (key left right)←1↓⍺\n",
    "    key>1⊃⍵:⍵∇⍺                                     ⍝ Flip to ensure smallest is root of merged\n",
    "    merged←right∇⍵                                  ⍝ Merge rightwards\n",
    "    leftRank←⊃left ⋄ mergedRank←⊃merged\n",
    "    leftRank≥⊃merged:(1+mergedRank) key left merged ⍝ Right is shorter\n",
    "    (1+leftRank) key merged left                    ⍝ Left is shorter; make it the new right\n",
    "}"
   ]
  },
  {
   "cell_type": "code",
   "execution_count": 120,
   "metadata": {},
   "outputs": [
    {
     "data": {
      "text/html": [
       "<span style=\"white-space:pre; font-family: monospace\">┌→─────────────────────────────────────────────────────────────┐\n",
       "│     ┌→────────────────────────────────────┐ ┌→─────────────┐ │\n",
       "│ 2 2 │     ┌→────────────┐ ┌→────────────┐ │ │      ┌⊖┐ ┌⊖┐ │ │\n",
       "│     │ 2 3 │     ┌⊖┐ ┌⊖┐ │ │     ┌⊖┐ ┌⊖┐ │ │ │ 1 10 │0│ │0│ │ │\n",
       "│     │     │ 1 6 │0│ │0│ │ │ 1 9 │0│ │0│ │ │ │      └~┘ └~┘ │ │\n",
       "│     │     │     └~┘ └~┘ │ │     └~┘ └~┘ │ │ └∊─────────────┘ │\n",
       "│     │     └∊────────────┘ └∊────────────┘ │                  │\n",
       "│     └∊────────────────────────────────────┘                  │\n",
       "└∊─────────────────────────────────────────────────────────────┘\n",
       "</span>"
      ]
     },
     "execution_count": 120,
     "metadata": {},
     "output_type": "execute_result"
    }
   ],
   "source": [
    "⍝ Example given in http://typeocaml.com/2015/03/12/heap-leftist-tree/\n",
    "h←Push 2\n",
    "h Push←10\n",
    "h Push←9\n",
    "\n",
    "s←Push 3\n",
    "s Push←6\n",
    "\n",
    "h Merge s"
   ]
  },
  {
   "cell_type": "markdown",
   "metadata": {},
   "source": [
    "More compact, and a more natural fit for APL. Note that the Leftist Tree has slightly different performance characteristics to the standard heap. "
   ]
  }
 ],
 "metadata": {
  "kernelspec": {
   "display_name": "Dyalog APL",
   "language": "apl",
   "name": "dyalog-kernel"
  },
  "language_info": {
   "file_extension": ".apl",
   "mimetype": "text/apl",
   "name": "APL"
  }
 },
 "nbformat": 4,
 "nbformat_minor": 2
}
